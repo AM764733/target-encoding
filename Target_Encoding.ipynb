{
  "nbformat": 4,
  "nbformat_minor": 0,
  "metadata": {
    "colab": {
      "name": "Target Encoding",
      "version": "0.3.2",
      "provenance": [],
      "collapsed_sections": [
        "F3spAaSlLozj",
        "g__EEWRPLuEe",
        "pJR4JtnALzk7",
        "d_CvINwf2v9f",
        "WAyX99su6Ztp",
        "_zSd5DXn16YA",
        "hNryKyVCM0cr",
        "zroBmNwL08_u",
        "pXAZQCjmNiYz",
        "GgfpH7-bYWFn"
      ]
    },
    "kernelspec": {
      "name": "python3",
      "display_name": "Python 3"
    }
  },
  "cells": [
    {
      "metadata": {
        "id": "wlMOSchK2noH",
        "colab_type": "text"
      },
      "cell_type": "markdown",
      "source": [
        "# Target Encoding\n",
        "\n",
        "Most machine learning algorithms require the input data to be a numeric matrix, where each row is a sample and each column is a feature.  This makes sense for continuous features, where a larger number obviously corresponds to a larger value (features such as voltage, purchase amount, or number of clicks).  How to represent categorical features is less obvious.  Categorical features (such as state, merchant ID, domain name, or phone number) don't have an intrinsic ordering, and so most of the time we can't just represent them with random numbers.  Who's to say that Colorado is \"greater than\" Minnesota?  Or DHL \"less than\" FedEx?  To represent categorical data, we need to find a way to encode the categories numerically.\n",
        "\n",
        "There are quite a few ways to encode categorical data.  We can simply assign each category an integer randomly (called label encoding).  Alternatively, we can create a new feature for each possible category, and set the feature to be 1 for each sample having that category, and otherwise set it to be 0 (called one-hot encoding).  If we're using neural networks, we could let our network learn the embeddings of categories in a high-dimensional space (called entity embedding, or in neural NLP models often just \"embedding\").\n",
        "\n",
        "However, these methods all have drawbacks.  Label encoding doesn't work well at all with non-ordinal categorical features.  One-hot encoding leads to a humongous number of added features when your data contains a large number of categories.  Entity embedding can only be used with neural network models (or at least with models which are trained using stochastic gradient descent).\n",
        "\n",
        "A different encoding method which we'll try in this post is called target encoding (also known as \"mean encoding\", and really should probably be called \"mean target encoding\").  With target encoding, each category is replaced with the mean target value for samples having that category.  The \"target value\" is the y-variable, or the value our model is trying to predict.  This allows us to encode an arbitrairy number of categories without increasing the dimensionality of our data!  \n",
        "\n",
        "Of course, there are drawbacks to target encoding as well.  Target encoding introduces noise into the encoding of the categorical variables (noise which comes from the noise in the target variable itself).  Also, naively applying target encoding can allow data leakage, leading to overfitting and poor predictive performance.  To fix that problem, we'll have to construct target encoders which prevent data leakage.  And even with those leak-proof target encoders, there are situations where one would be better off using one-hot or other encoding methods.  One-hot can be better in situations with few categories, or with data where there are strong interaction effects.\n",
        "\n",
        "In this post we'll evaluate different encoding schemes, build a cross-fold target encoder to mitigate the drawbacks of the naive target encoder, and determine how the performance of predictive models change based on the type of category encoding used, the number of categories in the dataset, and the presence of interaction effects. \n",
        "\n",
        "TODO: outline\n",
        "\n",
        "First let's import the packages we'll be using."
      ]
    },
    {
      "metadata": {
        "id": "fXS8EKjT2o7n",
        "colab_type": "code",
        "colab": {}
      },
      "cell_type": "code",
      "source": [
        "import numpy as np\n",
        "import pandas as pd\n",
        "import matplotlib.pyplot as plt\n",
        "import seaborn as sns\n",
        "\n",
        "from sklearn.metrics import mean_absolute_error, make_scorer\n",
        "from sklearn.pipeline import Pipeline\n",
        "from sklearn.preprocessing import StandardScaler\n",
        "from sklearn.impute import SimpleImputer\n",
        "from sklearn.model_selection import KFold \n",
        "from sklearn.model_selection import train_test_split\n",
        "from sklearn.model_selection import cross_val_score\n",
        "from sklearn.base import BaseEstimator, TransformerMixin\n",
        "\n",
        "from sklearn.linear_model import BayesianRidge\n",
        "from xgboost import XGBRegressor\n",
        "\n",
        "np.random.seed(12345)\n",
        "\n",
        "import warnings\n",
        "from sklearn.exceptions import DataConversionWarning\n",
        "warnings.filterwarnings(action='ignore', category=DataConversionWarning)"
      ],
      "execution_count": 0,
      "outputs": []
    },
    {
      "metadata": {
        "id": "8LQUOJ8D2q6f",
        "colab_type": "text"
      },
      "cell_type": "markdown",
      "source": [
        "## Data\n",
        "\n",
        "To evaluate the effectiveness of different encoding algorithms, we'll want to be able to generate data with different numbers of samples, features, and categories.  Let's make a function to generate categorical datasets, which allows us to set these different aspects of the data.  The categories have a direct effect on the target variable which we'll try to predict."
      ]
    },
    {
      "metadata": {
        "id": "31A0dwV-Lohj",
        "colab_type": "code",
        "colab": {}
      },
      "cell_type": "code",
      "source": [
        "def make_categorical_regression(n_samples=100,\n",
        "                                n_features=10,\n",
        "                                n_informative=10,\n",
        "                                n_categories=10,\n",
        "                                imbalance=0.0,\n",
        "                                noise=1.0,\n",
        "                                n_cont_features=0,\n",
        "                                cont_weight=0.1,\n",
        "                                interactions=0.0):\n",
        "    \"\"\"Generate a regression problem with categorical features.\n",
        "  \n",
        "    Parameters\n",
        "    ----------\n",
        "    n_samples : int > 0\n",
        "        Number of samples to generate\n",
        "        Default = 100\n",
        "    n_features : int > 0\n",
        "        Number of categorical features to generate\n",
        "        Default = 10\n",
        "    n_informative : int >= 0\n",
        "        Number of features which carry information about the target.\n",
        "        Default = 10\n",
        "    n_categories : int > 0\n",
        "        Number of categories per feature.  Default = 10\n",
        "    imbalance : float > 0\n",
        "        How much imbalance there is in the number of occurrences of\n",
        "        each category.  Larger values yield a higher concentration\n",
        "        of samples in only a few categories.  An imbalance of 0 \n",
        "        yields the same number of samples in each category.\n",
        "        Default = 0.0\n",
        "    noise : float > 0\n",
        "        Noise to add to target.  Default = 1.0\n",
        "    n_cont_features : int >= 0\n",
        "        Number of continuous (non-categorical) features.\n",
        "        Default = 0\n",
        "    cont_weight : float > 0\n",
        "        Weight of the continuous variables' effect.\n",
        "        Default = 0.1\n",
        "    interactions : float >= 0 and <= 1\n",
        "        Proportion of the variance due to interaction effects.\n",
        "        Note that this only adds interaction effects between the \n",
        "        categorical features, not the continuous features.\n",
        "        Default = 0.0\n",
        "        \n",
        "    Returns\n",
        "    -------\n",
        "    X : pandas DataFrame\n",
        "        Features.  Of shape (n_samples, n_features+n_cont_features)\n",
        "    y : pandas Series of shape (n_samples,)\n",
        "        Target variable.\n",
        "    \"\"\"\n",
        "    \n",
        "    \n",
        "    def beta_binomial(n, a, b):\n",
        "        \"\"\"Beta-binomial probability mass function.\n",
        "        \n",
        "        Parameters\n",
        "        ----------\n",
        "        n : int\n",
        "            Number of trials\n",
        "        a : float > 0\n",
        "            Alpha parameter\n",
        "        b : float > 0\n",
        "            Beta parameter\n",
        "            \n",
        "        Returns\n",
        "        -------\n",
        "        ndarray of size (n,)\n",
        "            Probability mass function.\n",
        "        \"\"\"\n",
        "        from scipy.special import beta\n",
        "        from scipy.misc import comb\n",
        "        k = np.arange(n+1)\n",
        "        return comb(n, k)*beta(k+a, n-k+b)/beta(a, b)\n",
        "\n",
        "\n",
        "    # Check inputs\n",
        "    if not isinstance(n_samples, int):\n",
        "        raise TypeError('n_samples must be an int')\n",
        "    if n_samples < 1:\n",
        "        raise ValueError('n_samples must be one or greater')\n",
        "    if not isinstance(n_features, int):\n",
        "        raise TypeError('n_features must be an int')\n",
        "    if n_features < 1:\n",
        "        raise ValueError('n_features must be one or greater')\n",
        "    if not isinstance(n_informative, int):\n",
        "        raise TypeError('n_informative must be an int')\n",
        "    if n_informative < 0:\n",
        "        raise ValueError('n_informative must be non-negative')\n",
        "    if not isinstance(n_categories, int):\n",
        "        raise TypeError('n_categories must be an int')\n",
        "    if n_categories < 1:\n",
        "        raise ValueError('n_categories must be one or greater')\n",
        "    if not isinstance(imbalance, float):\n",
        "        raise TypeError('imbalance must be a float')\n",
        "    if imbalance < 0:\n",
        "        raise ValueError('imbalance must be non-negative')\n",
        "    if not isinstance(noise, float):\n",
        "        raise TypeError('noise must be a float')\n",
        "    if noise < 0:\n",
        "        raise ValueError('noise must be positive')\n",
        "    if not isinstance(n_cont_features, int):\n",
        "        raise TypeError('n_cont_features must be an int')\n",
        "    if n_cont_features < 0:\n",
        "        raise ValueError('n_cont_features must be non-negative')\n",
        "    if not isinstance(cont_weight, float):\n",
        "        raise TypeError('cont_weight must be a float')\n",
        "    if cont_weight < 0:\n",
        "        raise ValueError('cont_weight must be non-negative')\n",
        "    if not isinstance(interactions, float):\n",
        "        raise TypeError('interactions must be a float')\n",
        "    if interactions < 0:\n",
        "        raise ValueError('interactions must be non-negative')\n",
        "        \n",
        "    # Generate random categorical data (using category probabilities\n",
        "    # drawn from a beta-binomial dist w/ alpha=1, beta=imbalance+1)\n",
        "    cat_probs = beta_binomial(n_categories-1, 1.0, imbalance+1)\n",
        "    categories = np.empty((n_samples, n_features), dtype='uint64')\n",
        "    for iC in range(n_features):\n",
        "        categories[:,iC] = np.random.choice(np.arange(n_categories),\n",
        "                                            size=n_samples,\n",
        "                                            p=cat_probs)\n",
        "        \n",
        "    # Generate random values for each category\n",
        "    cat_vals = np.random.randn(n_categories, n_features)\n",
        "    \n",
        "    # Set non-informative columns' effect to 0\n",
        "    cat_vals[:,:(n_features-n_informative)] = 0\n",
        "    \n",
        "    # Compute target variable from those categories and their values\n",
        "    y = np.zeros(n_samples)\n",
        "    for iC in range(n_features):\n",
        "        y += (1.0-interactions) * cat_vals[categories[:,iC], iC]\n",
        "      \n",
        "    # Add interaction effects\n",
        "    if interactions > 0:\n",
        "        for iC1 in range(n_informative):\n",
        "            for iC2 in range(iC1+1, n_informative):\n",
        "                int_vals = np.random.randn(n_categories, #interaction\n",
        "                                           n_categories) #effects\n",
        "                y += interactions * int_vals[categories[:,iC1],\n",
        "                                             categories[:,iC2]]\n",
        "    \n",
        "    # Add noise\n",
        "    y += noise*np.random.randn(n_samples)\n",
        "    \n",
        "    # Generate dataframe from categories\n",
        "    cat_strs = [''.join([chr(ord(c)+49) for c in str(n)]) \n",
        "                for n in range(n_categories)]\n",
        "    X = pd.DataFrame()\n",
        "    for iC in range(n_features):\n",
        "        col_str = 'categorical_'+str(iC)\n",
        "        X[col_str] = [cat_strs[i] for i in categories[:,iC]]\n",
        "        \n",
        "    # Add continuous features\n",
        "    for iC in range(n_cont_features):\n",
        "        col_str = 'continuous_'+str(iC)\n",
        "        X[col_str] = cont_weight*np.random.randn(n_samples)\n",
        "        y += np.random.randn()*X[col_str]\n",
        "                    \n",
        "    # Generate series from target\n",
        "    y = pd.Series(data=y, index=X.index)\n",
        "    \n",
        "    # Return features and target\n",
        "    return X, y"
      ],
      "execution_count": 0,
      "outputs": []
    },
    {
      "metadata": {
        "id": "AwugyiOT3xgn",
        "colab_type": "text"
      },
      "cell_type": "markdown",
      "source": [
        "Now, we can easily generate data to test our encoders on:"
      ]
    },
    {
      "metadata": {
        "id": "RnHHmJlIw-AK",
        "colab_type": "code",
        "outputId": "7df6cd41-dca9-42eb-c13d-b0fae90bb554",
        "colab": {
          "base_uri": "https://localhost:8080/",
          "height": 71
        }
      },
      "cell_type": "code",
      "source": [
        "# Generate categorical data and target\n",
        "X, y = make_categorical_regression(n_samples=2000,\n",
        "                                   n_features=10,\n",
        "                                   n_categories=100,\n",
        "                                   n_informative=1,\n",
        "                                   imbalance=2.0)\n",
        "\n",
        "# Split into test and training data\n",
        "X_train, X_test, y_train, y_test = train_test_split(\n",
        "    X, y, test_size=0.5)"
      ],
      "execution_count": 3,
      "outputs": [
        {
          "output_type": "stream",
          "text": [
            "/usr/local/lib/python3.6/dist-packages/ipykernel_launcher.py:72: DeprecationWarning: `comb` is deprecated!\n",
            "Importing `comb` from scipy.misc is deprecated in scipy 1.0.0. Use `scipy.special.comb` instead.\n"
          ],
          "name": "stderr"
        }
      ]
    },
    {
      "metadata": {
        "id": "XP8jiuvu4InP",
        "colab_type": "text"
      },
      "cell_type": "markdown",
      "source": [
        "The ten features in the dataset we generated are all categorical:"
      ]
    },
    {
      "metadata": {
        "id": "iBiFTq5S4Mtn",
        "colab_type": "code",
        "outputId": "a4b8a696-ba83-45f3-ec35-27b48543852b",
        "colab": {
          "base_uri": "https://localhost:8080/",
          "height": 379
        }
      },
      "cell_type": "code",
      "source": [
        "X_train.sample(10)"
      ],
      "execution_count": 4,
      "outputs": [
        {
          "output_type": "execute_result",
          "data": {
            "text/html": [
              "<div>\n",
              "<style scoped>\n",
              "    .dataframe tbody tr th:only-of-type {\n",
              "        vertical-align: middle;\n",
              "    }\n",
              "\n",
              "    .dataframe tbody tr th {\n",
              "        vertical-align: top;\n",
              "    }\n",
              "\n",
              "    .dataframe thead th {\n",
              "        text-align: right;\n",
              "    }\n",
              "</style>\n",
              "<table border=\"1\" class=\"dataframe\">\n",
              "  <thead>\n",
              "    <tr style=\"text-align: right;\">\n",
              "      <th></th>\n",
              "      <th>categorical_0</th>\n",
              "      <th>categorical_1</th>\n",
              "      <th>categorical_2</th>\n",
              "      <th>categorical_3</th>\n",
              "      <th>categorical_4</th>\n",
              "      <th>categorical_5</th>\n",
              "      <th>categorical_6</th>\n",
              "      <th>categorical_7</th>\n",
              "      <th>categorical_8</th>\n",
              "      <th>categorical_9</th>\n",
              "    </tr>\n",
              "  </thead>\n",
              "  <tbody>\n",
              "    <tr>\n",
              "      <th>792</th>\n",
              "      <td>cf</td>\n",
              "      <td>c</td>\n",
              "      <td>d</td>\n",
              "      <td>a</td>\n",
              "      <td>ed</td>\n",
              "      <td>ca</td>\n",
              "      <td>dj</td>\n",
              "      <td>g</td>\n",
              "      <td>b</td>\n",
              "      <td>bj</td>\n",
              "    </tr>\n",
              "    <tr>\n",
              "      <th>276</th>\n",
              "      <td>di</td>\n",
              "      <td>b</td>\n",
              "      <td>bd</td>\n",
              "      <td>fg</td>\n",
              "      <td>d</td>\n",
              "      <td>j</td>\n",
              "      <td>e</td>\n",
              "      <td>a</td>\n",
              "      <td>hc</td>\n",
              "      <td>h</td>\n",
              "    </tr>\n",
              "    <tr>\n",
              "      <th>1016</th>\n",
              "      <td>ei</td>\n",
              "      <td>di</td>\n",
              "      <td>cj</td>\n",
              "      <td>he</td>\n",
              "      <td>hb</td>\n",
              "      <td>gh</td>\n",
              "      <td>b</td>\n",
              "      <td>bh</td>\n",
              "      <td>df</td>\n",
              "      <td>c</td>\n",
              "    </tr>\n",
              "    <tr>\n",
              "      <th>1372</th>\n",
              "      <td>ca</td>\n",
              "      <td>c</td>\n",
              "      <td>be</td>\n",
              "      <td>ce</td>\n",
              "      <td>cg</td>\n",
              "      <td>bf</td>\n",
              "      <td>de</td>\n",
              "      <td>fe</td>\n",
              "      <td>ba</td>\n",
              "      <td>fd</td>\n",
              "    </tr>\n",
              "    <tr>\n",
              "      <th>1860</th>\n",
              "      <td>db</td>\n",
              "      <td>dh</td>\n",
              "      <td>ba</td>\n",
              "      <td>bh</td>\n",
              "      <td>di</td>\n",
              "      <td>bh</td>\n",
              "      <td>db</td>\n",
              "      <td>bi</td>\n",
              "      <td>gf</td>\n",
              "      <td>bi</td>\n",
              "    </tr>\n",
              "    <tr>\n",
              "      <th>1431</th>\n",
              "      <td>h</td>\n",
              "      <td>ce</td>\n",
              "      <td>ea</td>\n",
              "      <td>i</td>\n",
              "      <td>eb</td>\n",
              "      <td>g</td>\n",
              "      <td>da</td>\n",
              "      <td>da</td>\n",
              "      <td>fc</td>\n",
              "      <td>e</td>\n",
              "    </tr>\n",
              "    <tr>\n",
              "      <th>328</th>\n",
              "      <td>j</td>\n",
              "      <td>db</td>\n",
              "      <td>df</td>\n",
              "      <td>fa</td>\n",
              "      <td>fe</td>\n",
              "      <td>g</td>\n",
              "      <td>c</td>\n",
              "      <td>h</td>\n",
              "      <td>da</td>\n",
              "      <td>bg</td>\n",
              "    </tr>\n",
              "    <tr>\n",
              "      <th>1708</th>\n",
              "      <td>cd</td>\n",
              "      <td>ci</td>\n",
              "      <td>f</td>\n",
              "      <td>be</td>\n",
              "      <td>e</td>\n",
              "      <td>fb</td>\n",
              "      <td>dc</td>\n",
              "      <td>bi</td>\n",
              "      <td>ec</td>\n",
              "      <td>da</td>\n",
              "    </tr>\n",
              "    <tr>\n",
              "      <th>1567</th>\n",
              "      <td>ei</td>\n",
              "      <td>cj</td>\n",
              "      <td>ch</td>\n",
              "      <td>bc</td>\n",
              "      <td>bb</td>\n",
              "      <td>f</td>\n",
              "      <td>ch</td>\n",
              "      <td>bi</td>\n",
              "      <td>c</td>\n",
              "      <td>he</td>\n",
              "    </tr>\n",
              "    <tr>\n",
              "      <th>1027</th>\n",
              "      <td>bi</td>\n",
              "      <td>bh</td>\n",
              "      <td>bf</td>\n",
              "      <td>ba</td>\n",
              "      <td>dc</td>\n",
              "      <td>da</td>\n",
              "      <td>g</td>\n",
              "      <td>cc</td>\n",
              "      <td>bi</td>\n",
              "      <td>ee</td>\n",
              "    </tr>\n",
              "  </tbody>\n",
              "</table>\n",
              "</div>"
            ],
            "text/plain": [
              "     categorical_0 categorical_1 categorical_2 categorical_3 categorical_4  \\\n",
              "792             cf             c             d             a            ed   \n",
              "276             di             b            bd            fg             d   \n",
              "1016            ei            di            cj            he            hb   \n",
              "1372            ca             c            be            ce            cg   \n",
              "1860            db            dh            ba            bh            di   \n",
              "1431             h            ce            ea             i            eb   \n",
              "328              j            db            df            fa            fe   \n",
              "1708            cd            ci             f            be             e   \n",
              "1567            ei            cj            ch            bc            bb   \n",
              "1027            bi            bh            bf            ba            dc   \n",
              "\n",
              "     categorical_5 categorical_6 categorical_7 categorical_8 categorical_9  \n",
              "792             ca            dj             g             b            bj  \n",
              "276              j             e             a            hc             h  \n",
              "1016            gh             b            bh            df             c  \n",
              "1372            bf            de            fe            ba            fd  \n",
              "1860            bh            db            bi            gf            bi  \n",
              "1431             g            da            da            fc             e  \n",
              "328              g             c             h            da            bg  \n",
              "1708            fb            dc            bi            ec            da  \n",
              "1567             f            ch            bi             c            he  \n",
              "1027            da             g            cc            bi            ee  "
            ]
          },
          "metadata": {
            "tags": []
          },
          "execution_count": 4
        }
      ]
    },
    {
      "metadata": {
        "id": "295Wd_B1zT9a",
        "colab_type": "text"
      },
      "cell_type": "markdown",
      "source": [
        "Using the pandas package, these are stored as the \"object\" datatype:"
      ]
    },
    {
      "metadata": {
        "id": "yxaiV1qjnpJb",
        "colab_type": "code",
        "outputId": "ed3c1cc6-99f3-489b-a915-b28585129fa7",
        "colab": {
          "base_uri": "https://localhost:8080/",
          "height": 272
        }
      },
      "cell_type": "code",
      "source": [
        "X_train.info()"
      ],
      "execution_count": 5,
      "outputs": [
        {
          "output_type": "stream",
          "text": [
            "<class 'pandas.core.frame.DataFrame'>\n",
            "Int64Index: 1000 entries, 523 to 583\n",
            "Data columns (total 10 columns):\n",
            "categorical_0    1000 non-null object\n",
            "categorical_1    1000 non-null object\n",
            "categorical_2    1000 non-null object\n",
            "categorical_3    1000 non-null object\n",
            "categorical_4    1000 non-null object\n",
            "categorical_5    1000 non-null object\n",
            "categorical_6    1000 non-null object\n",
            "categorical_7    1000 non-null object\n",
            "categorical_8    1000 non-null object\n",
            "categorical_9    1000 non-null object\n",
            "dtypes: object(10)\n",
            "memory usage: 85.9+ KB\n"
          ],
          "name": "stdout"
        }
      ]
    },
    {
      "metadata": {
        "id": "Ckap_xbm-ZFo",
        "colab_type": "text"
      },
      "cell_type": "markdown",
      "source": [
        "While all the features are categorical, the target variable is continuous:"
      ]
    },
    {
      "metadata": {
        "id": "y_82h44JyBW7",
        "colab_type": "code",
        "outputId": "08a87fb9-1cc6-4c41-f4e1-e8dad0e7d0a3",
        "colab": {
          "base_uri": "https://localhost:8080/",
          "height": 364
        }
      },
      "cell_type": "code",
      "source": [
        "y_train.hist(bins=20)"
      ],
      "execution_count": 6,
      "outputs": [
        {
          "output_type": "execute_result",
          "data": {
            "text/plain": [
              "<matplotlib.axes._subplots.AxesSubplot at 0x7f7abccf8e80>"
            ]
          },
          "metadata": {
            "tags": []
          },
          "execution_count": 6
        },
        {
          "output_type": "display_data",
          "data": {
            "image/png": "[encoded data removed]",
            "text/plain": [
              "<Figure size 576x396 with 1 Axes>"
            ]
          },
          "metadata": {
            "tags": []
          }
        }
      ]
    },
    {
      "metadata": {
        "id": "sH3ADlvjAbo6",
        "colab_type": "text"
      },
      "cell_type": "markdown",
      "source": [
        "Now the question is: which encoding scheme best allows us to glean the most information from the categorical features, leading to the best predictions of the target variable?"
      ]
    },
    {
      "metadata": {
        "id": "7gsbU-a4ArVl",
        "colab_type": "text"
      },
      "cell_type": "markdown",
      "source": [
        "## Baseline\n",
        "\n",
        "For comparison, how well would we do if we just predicted the mean target value for all samples?  We'll use the mean absolute error (MAE) as our performance metric."
      ]
    },
    {
      "metadata": {
        "id": "UTQOgHegAqhh",
        "colab_type": "code",
        "outputId": "901b4494-5a3c-482e-9e4e-5834628245c8",
        "colab": {
          "base_uri": "https://localhost:8080/",
          "height": 34
        }
      },
      "cell_type": "code",
      "source": [
        "mean_absolute_error(y_train, \n",
        "                    np.full(y_train.shape[0], y_train.mean()))"
      ],
      "execution_count": 7,
      "outputs": [
        {
          "output_type": "execute_result",
          "data": {
            "text/plain": [
              "1.139564825988808"
            ]
          },
          "metadata": {
            "tags": []
          },
          "execution_count": 7
        }
      ]
    },
    {
      "metadata": {
        "id": "tPKR7mZICTrT",
        "colab_type": "text"
      },
      "cell_type": "markdown",
      "source": [
        "So our predictive models should definitely be shooting for a mean absolute error of less than that!  But, we added random noise with a standard deviation of 1, so even if our model is *perfect*, the best MAE we can expect is:"
      ]
    },
    {
      "metadata": {
        "id": "L2dIB7n4tLNK",
        "colab_type": "code",
        "outputId": "476d97bb-731d-43ac-f995-776b1922e03d",
        "colab": {
          "base_uri": "https://localhost:8080/",
          "height": 34
        }
      },
      "cell_type": "code",
      "source": [
        "mean_absolute_error(np.random.randn(10000), \n",
        "                    np.zeros(10000))"
      ],
      "execution_count": 8,
      "outputs": [
        {
          "output_type": "execute_result",
          "data": {
            "text/plain": [
              "0.7995403442995148"
            ]
          },
          "metadata": {
            "tags": []
          },
          "execution_count": 8
        }
      ]
    },
    {
      "metadata": {
        "id": "F3spAaSlLozj",
        "colab_type": "text"
      },
      "cell_type": "markdown",
      "source": [
        "## Label Encoding\n",
        "\n",
        "TODO: prediction w/ simple label encoding, which is just replacing each unique category w/ a unique integer\n",
        "\n",
        "TODO: note that we could also use Scikit-learn's LabelEncoder"
      ]
    },
    {
      "metadata": {
        "id": "pFPw2LQZggHr",
        "colab_type": "code",
        "colab": {}
      },
      "cell_type": "code",
      "source": [
        "class LabelEncoder(BaseEstimator, TransformerMixin):\n",
        "    \"\"\"Label encoder.\n",
        "    \n",
        "    Replaces categorical column(s) with integer labels for each unique\n",
        "    category in original column.\n",
        "\n",
        "    \"\"\"\n",
        "    \n",
        "    def __init__(self, cols=None):\n",
        "        \"\"\"Label encoder.\n",
        "        \n",
        "        Parameters\n",
        "        ----------\n",
        "        cols : list of str\n",
        "            Columns to label encode.  Default is to label encode \n",
        "            all categorical columns in the DataFrame.\n",
        "        \"\"\"\n",
        "        if isinstance(cols, str):\n",
        "            self.cols = [cols]\n",
        "        else:\n",
        "            self.cols = cols\n",
        "        \n",
        "        \n",
        "    def fit(self, X, y):\n",
        "        \"\"\"Fit label encoder to X and y\n",
        "        \n",
        "        Parameters\n",
        "        ----------\n",
        "        X : pandas DataFrame, shape [n_samples, n_columns]\n",
        "            DataFrame containing columns to label encode\n",
        "        y : pandas Series, shape = [n_samples]\n",
        "            Target values.\n",
        "            \n",
        "        Returns\n",
        "        -------\n",
        "        self : encoder\n",
        "            Returns self.\n",
        "        \"\"\"\n",
        "        \n",
        "        # Encode all categorical cols by default\n",
        "        if self.cols is None:\n",
        "            self.cols = [c for c in X if str(X[c].dtype)=='object']\n",
        "\n",
        "        # Check columns are in X\n",
        "        for col in self.cols:\n",
        "            if col not in X:\n",
        "                raise ValueError('Column \\''+col+'\\' not in X')\n",
        "\n",
        "        # Create the map from objects to integers for each column\n",
        "        self.maps = dict() #dict to store map for each column\n",
        "        for col in self.cols:\n",
        "            self.maps[col] = dict(zip(\n",
        "                X[col].values, \n",
        "                X[col].astype('category').cat.codes.values\n",
        "            ))\n",
        "                        \n",
        "        # Return fit object\n",
        "        return self\n",
        "\n",
        "        \n",
        "    def transform(self, X, y=None):\n",
        "        \"\"\"Perform the label encoding transformation.\n",
        "        \n",
        "        Parameters\n",
        "        ----------\n",
        "        X : pandas DataFrame, shape [n_samples, n_columns]\n",
        "            DataFrame containing columns to label encode\n",
        "            \n",
        "        Returns\n",
        "        -------\n",
        "        pandas DataFrame\n",
        "            Input DataFrame with transformed columns\n",
        "        \"\"\"\n",
        "        Xo = X.copy()\n",
        "        for col, tmap in self.maps.items():\n",
        "          \n",
        "            # Map the column\n",
        "            Xo[col] = Xo[col].map(tmap)\n",
        "            \n",
        "            # Convert to appropriate datatype\n",
        "            max_val = max(tmap.values())\n",
        "            if Xo[col].isnull().any(): #nulls, so have to use float!\n",
        "                if max_val < 8388608:\n",
        "                    dtype = 'float32'\n",
        "                else:\n",
        "                    dtype = 'float64'\n",
        "            else:\n",
        "                if max_val < 256:\n",
        "                    dtype = 'uint8'\n",
        "                elif max_val < 65536:\n",
        "                    dtype = 'uint16'\n",
        "                elif max_val < 4294967296:\n",
        "                    dtype = 'uint32'\n",
        "                else:\n",
        "                    dtype = 'uint64'\n",
        "            Xo[col] = Xo[col].astype(dtype)\n",
        "            \n",
        "        # Return encoded dataframe\n",
        "        return Xo\n",
        "            \n",
        "            \n",
        "    def fit_transform(self, X, y=None):\n",
        "        \"\"\"Fit and transform the data via label encoding.\n",
        "        \n",
        "        Parameters\n",
        "        ----------\n",
        "        X : pandas DataFrame, shape [n_samples, n_columns]\n",
        "            DataFrame containing columns to label encode\n",
        "        y : pandas Series, shape = [n_samples]\n",
        "            Target values\n",
        "\n",
        "        Returns\n",
        "        -------\n",
        "        pandas DataFrame\n",
        "            Input DataFrame with transformed columns\n",
        "        \"\"\"\n",
        "        return self.fit(X, y).transform(X, y)"
      ],
      "execution_count": 0,
      "outputs": []
    },
    {
      "metadata": {
        "id": "nDhwfsV5DDpj",
        "colab_type": "text"
      },
      "cell_type": "markdown",
      "source": [
        "Now we can convert the categories to integers:"
      ]
    },
    {
      "metadata": {
        "id": "Y2YJidsuC0if",
        "colab_type": "code",
        "outputId": "5a7dd427-e38b-42ed-86bd-30ecb2b72702",
        "colab": {
          "base_uri": "https://localhost:8080/",
          "height": 379
        }
      },
      "cell_type": "code",
      "source": [
        "# Label encode the categorical data\n",
        "le = LabelEncoder()\n",
        "X_label_encoded = le.fit_transform(X_train, y_train)\n",
        "X_label_encoded.sample(10)"
      ],
      "execution_count": 10,
      "outputs": [
        {
          "output_type": "execute_result",
          "data": {
            "text/html": [
              "<div>\n",
              "<style scoped>\n",
              "    .dataframe tbody tr th:only-of-type {\n",
              "        vertical-align: middle;\n",
              "    }\n",
              "\n",
              "    .dataframe tbody tr th {\n",
              "        vertical-align: top;\n",
              "    }\n",
              "\n",
              "    .dataframe thead th {\n",
              "        text-align: right;\n",
              "    }\n",
              "</style>\n",
              "<table border=\"1\" class=\"dataframe\">\n",
              "  <thead>\n",
              "    <tr style=\"text-align: right;\">\n",
              "      <th></th>\n",
              "      <th>categorical_0</th>\n",
              "      <th>categorical_1</th>\n",
              "      <th>categorical_2</th>\n",
              "      <th>categorical_3</th>\n",
              "      <th>categorical_4</th>\n",
              "      <th>categorical_5</th>\n",
              "      <th>categorical_6</th>\n",
              "      <th>categorical_7</th>\n",
              "      <th>categorical_8</th>\n",
              "      <th>categorical_9</th>\n",
              "    </tr>\n",
              "  </thead>\n",
              "  <tbody>\n",
              "    <tr>\n",
              "      <th>884</th>\n",
              "      <td>13</td>\n",
              "      <td>40</td>\n",
              "      <td>83</td>\n",
              "      <td>5</td>\n",
              "      <td>82</td>\n",
              "      <td>32</td>\n",
              "      <td>44</td>\n",
              "      <td>6</td>\n",
              "      <td>23</td>\n",
              "      <td>55</td>\n",
              "    </tr>\n",
              "    <tr>\n",
              "      <th>1098</th>\n",
              "      <td>15</td>\n",
              "      <td>66</td>\n",
              "      <td>34</td>\n",
              "      <td>70</td>\n",
              "      <td>56</td>\n",
              "      <td>36</td>\n",
              "      <td>69</td>\n",
              "      <td>3</td>\n",
              "      <td>86</td>\n",
              "      <td>48</td>\n",
              "    </tr>\n",
              "    <tr>\n",
              "      <th>853</th>\n",
              "      <td>56</td>\n",
              "      <td>6</td>\n",
              "      <td>12</td>\n",
              "      <td>30</td>\n",
              "      <td>27</td>\n",
              "      <td>25</td>\n",
              "      <td>56</td>\n",
              "      <td>10</td>\n",
              "      <td>54</td>\n",
              "      <td>6</td>\n",
              "    </tr>\n",
              "    <tr>\n",
              "      <th>1667</th>\n",
              "      <td>17</td>\n",
              "      <td>6</td>\n",
              "      <td>77</td>\n",
              "      <td>8</td>\n",
              "      <td>22</td>\n",
              "      <td>65</td>\n",
              "      <td>22</td>\n",
              "      <td>33</td>\n",
              "      <td>5</td>\n",
              "      <td>22</td>\n",
              "    </tr>\n",
              "    <tr>\n",
              "      <th>1136</th>\n",
              "      <td>56</td>\n",
              "      <td>5</td>\n",
              "      <td>8</td>\n",
              "      <td>34</td>\n",
              "      <td>0</td>\n",
              "      <td>31</td>\n",
              "      <td>48</td>\n",
              "      <td>80</td>\n",
              "      <td>50</td>\n",
              "      <td>56</td>\n",
              "    </tr>\n",
              "    <tr>\n",
              "      <th>362</th>\n",
              "      <td>0</td>\n",
              "      <td>15</td>\n",
              "      <td>47</td>\n",
              "      <td>50</td>\n",
              "      <td>42</td>\n",
              "      <td>7</td>\n",
              "      <td>9</td>\n",
              "      <td>3</td>\n",
              "      <td>81</td>\n",
              "      <td>34</td>\n",
              "    </tr>\n",
              "    <tr>\n",
              "      <th>1977</th>\n",
              "      <td>21</td>\n",
              "      <td>19</td>\n",
              "      <td>22</td>\n",
              "      <td>56</td>\n",
              "      <td>56</td>\n",
              "      <td>13</td>\n",
              "      <td>1</td>\n",
              "      <td>43</td>\n",
              "      <td>13</td>\n",
              "      <td>34</td>\n",
              "    </tr>\n",
              "    <tr>\n",
              "      <th>1784</th>\n",
              "      <td>35</td>\n",
              "      <td>66</td>\n",
              "      <td>37</td>\n",
              "      <td>66</td>\n",
              "      <td>4</td>\n",
              "      <td>1</td>\n",
              "      <td>76</td>\n",
              "      <td>8</td>\n",
              "      <td>1</td>\n",
              "      <td>10</td>\n",
              "    </tr>\n",
              "    <tr>\n",
              "      <th>127</th>\n",
              "      <td>82</td>\n",
              "      <td>42</td>\n",
              "      <td>11</td>\n",
              "      <td>63</td>\n",
              "      <td>12</td>\n",
              "      <td>39</td>\n",
              "      <td>58</td>\n",
              "      <td>76</td>\n",
              "      <td>59</td>\n",
              "      <td>67</td>\n",
              "    </tr>\n",
              "    <tr>\n",
              "      <th>1489</th>\n",
              "      <td>2</td>\n",
              "      <td>66</td>\n",
              "      <td>35</td>\n",
              "      <td>1</td>\n",
              "      <td>4</td>\n",
              "      <td>1</td>\n",
              "      <td>45</td>\n",
              "      <td>24</td>\n",
              "      <td>23</td>\n",
              "      <td>24</td>\n",
              "    </tr>\n",
              "  </tbody>\n",
              "</table>\n",
              "</div>"
            ],
            "text/plain": [
              "      categorical_0  categorical_1  categorical_2  categorical_3  \\\n",
              "884              13             40             83              5   \n",
              "1098             15             66             34             70   \n",
              "853              56              6             12             30   \n",
              "1667             17              6             77              8   \n",
              "1136             56              5              8             34   \n",
              "362               0             15             47             50   \n",
              "1977             21             19             22             56   \n",
              "1784             35             66             37             66   \n",
              "127              82             42             11             63   \n",
              "1489              2             66             35              1   \n",
              "\n",
              "      categorical_4  categorical_5  categorical_6  categorical_7  \\\n",
              "884              82             32             44              6   \n",
              "1098             56             36             69              3   \n",
              "853              27             25             56             10   \n",
              "1667             22             65             22             33   \n",
              "1136              0             31             48             80   \n",
              "362              42              7              9              3   \n",
              "1977             56             13              1             43   \n",
              "1784              4              1             76              8   \n",
              "127              12             39             58             76   \n",
              "1489              4              1             45             24   \n",
              "\n",
              "      categorical_8  categorical_9  \n",
              "884              23             55  \n",
              "1098             86             48  \n",
              "853              54              6  \n",
              "1667              5             22  \n",
              "1136             50             56  \n",
              "362              81             34  \n",
              "1977             13             34  \n",
              "1784              1             10  \n",
              "127              59             67  \n",
              "1489             23             24  "
            ]
          },
          "metadata": {
            "tags": []
          },
          "execution_count": 10
        }
      ]
    },
    {
      "metadata": {
        "id": "67LwHzQAW1Rl",
        "colab_type": "text"
      },
      "cell_type": "markdown",
      "source": [
        "But again, these integers aren't related to the categories in any meaningful way - aside from the fact that each unique integer corresponds to a unique category.\n",
        "\n",
        "TODO: then we can make a model to predict"
      ]
    },
    {
      "metadata": {
        "id": "u4Nibf2SW061",
        "colab_type": "code",
        "outputId": "c283fb55-defa-4b1e-ea57-d782eed685a5",
        "colab": {
          "base_uri": "https://localhost:8080/",
          "height": 34
        }
      },
      "cell_type": "code",
      "source": [
        "# Regression model\n",
        "model_le = Pipeline([\n",
        "    ('label-encoder', LabelEncoder()),\n",
        "    ('scaler', StandardScaler()),\n",
        "    ('imputer', SimpleImputer(strategy='mean')),\n",
        "    ('regressor', BayesianRidge())\n",
        "])\n",
        "\n",
        "# Cross-validated MAE\n",
        "mae_scorer = make_scorer(mean_absolute_error)\n",
        "scores = cross_val_score(model_le, X_train, y_train, \n",
        "                         cv=3, scoring=mae_scorer)\n",
        "print('Cross-validated MAE:', scores.mean(), '+/-', scores.std())"
      ],
      "execution_count": 11,
      "outputs": [
        {
          "output_type": "stream",
          "text": [
            "Cross-validated MAE: 1.13197409773137 +/- 0.021768461339780148\n"
          ],
          "name": "stdout"
        }
      ]
    },
    {
      "metadata": {
        "id": "0FU8xUdnbdX3",
        "colab_type": "text"
      },
      "cell_type": "markdown",
      "source": [
        "TODO: That's not much better than just predicting the mean!\n",
        "\n",
        "However, the error is no worse on the test data than the cross-validated error on the training data.\n",
        "\n"
      ]
    },
    {
      "metadata": {
        "id": "m9Depw3LbhbG",
        "colab_type": "code",
        "outputId": "2b396337-4602-45b5-bbef-fe6759412f83",
        "colab": {
          "base_uri": "https://localhost:8080/",
          "height": 34
        }
      },
      "cell_type": "code",
      "source": [
        "# MAE on test data\n",
        "model_le.fit(X_train, y_train)\n",
        "y_pred = model_le.predict(X_test)\n",
        "test_mae = mean_absolute_error(y_test, y_pred)\n",
        "print('Validation MAE:', test_mae)"
      ],
      "execution_count": 12,
      "outputs": [
        {
          "output_type": "stream",
          "text": [
            "Validation MAE: 1.175866100844089\n"
          ],
          "name": "stdout"
        }
      ]
    },
    {
      "metadata": {
        "id": "g__EEWRPLuEe",
        "colab_type": "text"
      },
      "cell_type": "markdown",
      "source": [
        "## One-hot Encoding\n",
        "\n",
        "TODO: one-hot encoding, sometimes aka \"Dummy encoding\"\n",
        "\n",
        "(note that we could also use Scikit-learn's OneHotEncoder)"
      ]
    },
    {
      "metadata": {
        "id": "xu7mOQTedGsp",
        "colab_type": "code",
        "colab": {}
      },
      "cell_type": "code",
      "source": [
        "class OneHotEncoder(BaseEstimator, TransformerMixin):\n",
        "    \"\"\"One-hot encoder.\n",
        "    \n",
        "    Replaces categorical column(s) with binary columns for each unique\n",
        "    value in original column.\n",
        "\n",
        "    \"\"\"\n",
        "    \n",
        "    def __init__(self, cols=None, reduce_df=False):\n",
        "        \"\"\"One-hot encoder.\n",
        "        \n",
        "        Parameters\n",
        "        ----------\n",
        "        cols : list of str\n",
        "            Columns to one-hot encode.  Default is to one-hot encode \n",
        "            all categorical columns in the DataFrame.\n",
        "        reduce_df : bool\n",
        "            Whether to add N-1 one-hot columns for a column with N \n",
        "            categories. E.g. for a column with categories A, B, and C:\n",
        "            When reduce_df is True, A=[1, 0], B=[0, 1], and C=[0, 0]\n",
        "            When reduce_df is False, A=[1, 0, 0], B=[0, 1, 0], and \n",
        "            C=[0, 0, 1]\n",
        "            Default = False\n",
        "        \"\"\"\n",
        "        if isinstance(cols, str):\n",
        "            self.cols = [cols]\n",
        "        else:\n",
        "            self.cols = cols\n",
        "        self.reduce_df = reduce_df\n",
        "        \n",
        "        \n",
        "    def fit(self, X, y):\n",
        "        \"\"\"Fit one-hot encoder to X and y\n",
        "        \n",
        "        Parameters\n",
        "        ----------\n",
        "        X : pandas DataFrame, shape [n_samples, n_columns]\n",
        "            DataFrame containing columns to encode\n",
        "        y : pandas Series, shape = [n_samples]\n",
        "            Target values.\n",
        "            \n",
        "        Returns\n",
        "        -------\n",
        "        self : encoder\n",
        "            Returns self.\n",
        "        \"\"\"\n",
        "        \n",
        "        # Encode all categorical cols by default\n",
        "        if self.cols is None:\n",
        "            self.cols = [c for c in X if str(X[c].dtype)=='object']\n",
        "\n",
        "        # Check columns are in X\n",
        "        for col in self.cols:\n",
        "            if col not in X:\n",
        "                raise ValueError('Column \\''+col+'\\' not in X')\n",
        "\n",
        "        # Store each unique value\n",
        "        self.maps = dict() #dict to store map for each column\n",
        "        for col in self.cols:\n",
        "            self.maps[col] = []\n",
        "            uniques = X[col].unique()\n",
        "            for unique in uniques:\n",
        "                self.maps[col].append(unique)\n",
        "            if self.reduce_df:\n",
        "                del self.maps[col][-1]\n",
        "        \n",
        "        # Return fit object\n",
        "        return self\n",
        "\n",
        "        \n",
        "    def transform(self, X, y=None):\n",
        "        \"\"\"Perform the one-hot encoding transformation.\n",
        "        \n",
        "        Parameters\n",
        "        ----------\n",
        "        X : pandas DataFrame, shape [n_samples, n_columns]\n",
        "            DataFrame containing columns to one-hot encode\n",
        "            \n",
        "        Returns\n",
        "        -------\n",
        "        pandas DataFrame\n",
        "            Input DataFrame with transformed columns\n",
        "        \"\"\"\n",
        "        Xo = X.copy()\n",
        "        for col, vals in self.maps.items():\n",
        "            for val in vals:\n",
        "                new_col = col+'_'+str(val)\n",
        "                Xo[new_col] = (Xo[col]==val).astype('uint8')\n",
        "            del Xo[col]\n",
        "        return Xo\n",
        "            \n",
        "            \n",
        "    def fit_transform(self, X, y=None):\n",
        "        \"\"\"Fit and transform the data via one-hot encoding.\n",
        "        \n",
        "        Parameters\n",
        "        ----------\n",
        "        X : pandas DataFrame, shape [n_samples, n_columns]\n",
        "            DataFrame containing columns to one-hot encode\n",
        "        y : pandas Series, shape = [n_samples]\n",
        "            Target values\n",
        "\n",
        "        Returns\n",
        "        -------\n",
        "        pandas DataFrame\n",
        "            Input DataFrame with transformed columns\n",
        "        \"\"\"\n",
        "        return self.fit(X, y).transform(X, y)"
      ],
      "execution_count": 0,
      "outputs": []
    },
    {
      "metadata": {
        "id": "AosYxSrbNBOs",
        "colab_type": "text"
      },
      "cell_type": "markdown",
      "source": [
        "Now, instead of replacing categories with integer labels, we've create a new column for each category in each original column.  The value in a given column is 1 when the original category matches, otherwise the value is 0."
      ]
    },
    {
      "metadata": {
        "id": "Xg9TlgHDNRC-",
        "colab_type": "code",
        "outputId": "4701c95e-f101-445b-8b7e-3a01de3618be",
        "colab": {
          "base_uri": "https://localhost:8080/",
          "height": 408
        }
      },
      "cell_type": "code",
      "source": [
        "# One-hot-encode the categorical data\n",
        "ohe = OneHotEncoder()\n",
        "X_one_hot = ohe.fit_transform(X_train, y_train)\n",
        "X_one_hot.sample(10)"
      ],
      "execution_count": 14,
      "outputs": [
        {
          "output_type": "execute_result",
          "data": {
            "text/html": [
              "<div>\n",
              "<style scoped>\n",
              "    .dataframe tbody tr th:only-of-type {\n",
              "        vertical-align: middle;\n",
              "    }\n",
              "\n",
              "    .dataframe tbody tr th {\n",
              "        vertical-align: top;\n",
              "    }\n",
              "\n",
              "    .dataframe thead th {\n",
              "        text-align: right;\n",
              "    }\n",
              "</style>\n",
              "<table border=\"1\" class=\"dataframe\">\n",
              "  <thead>\n",
              "    <tr style=\"text-align: right;\">\n",
              "      <th></th>\n",
              "      <th>categorical_0_ec</th>\n",
              "      <th>categorical_0_ba</th>\n",
              "      <th>categorical_0_bg</th>\n",
              "      <th>categorical_0_b</th>\n",
              "      <th>categorical_0_h</th>\n",
              "      <th>categorical_0_j</th>\n",
              "      <th>categorical_0_ge</th>\n",
              "      <th>categorical_0_cg</th>\n",
              "      <th>categorical_0_fh</th>\n",
              "      <th>categorical_0_dc</th>\n",
              "      <th>...</th>\n",
              "      <th>categorical_9_ga</th>\n",
              "      <th>categorical_9_eb</th>\n",
              "      <th>categorical_9_gg</th>\n",
              "      <th>categorical_9_hj</th>\n",
              "      <th>categorical_9_gi</th>\n",
              "      <th>categorical_9_he</th>\n",
              "      <th>categorical_9_ff</th>\n",
              "      <th>categorical_9_hb</th>\n",
              "      <th>categorical_9_gd</th>\n",
              "      <th>categorical_9_fi</th>\n",
              "    </tr>\n",
              "  </thead>\n",
              "  <tbody>\n",
              "    <tr>\n",
              "      <th>294</th>\n",
              "      <td>0</td>\n",
              "      <td>0</td>\n",
              "      <td>0</td>\n",
              "      <td>0</td>\n",
              "      <td>0</td>\n",
              "      <td>0</td>\n",
              "      <td>0</td>\n",
              "      <td>0</td>\n",
              "      <td>0</td>\n",
              "      <td>0</td>\n",
              "      <td>...</td>\n",
              "      <td>0</td>\n",
              "      <td>0</td>\n",
              "      <td>0</td>\n",
              "      <td>0</td>\n",
              "      <td>0</td>\n",
              "      <td>0</td>\n",
              "      <td>0</td>\n",
              "      <td>0</td>\n",
              "      <td>0</td>\n",
              "      <td>0</td>\n",
              "    </tr>\n",
              "    <tr>\n",
              "      <th>900</th>\n",
              "      <td>0</td>\n",
              "      <td>0</td>\n",
              "      <td>0</td>\n",
              "      <td>0</td>\n",
              "      <td>1</td>\n",
              "      <td>0</td>\n",
              "      <td>0</td>\n",
              "      <td>0</td>\n",
              "      <td>0</td>\n",
              "      <td>0</td>\n",
              "      <td>...</td>\n",
              "      <td>0</td>\n",
              "      <td>0</td>\n",
              "      <td>0</td>\n",
              "      <td>0</td>\n",
              "      <td>0</td>\n",
              "      <td>0</td>\n",
              "      <td>0</td>\n",
              "      <td>0</td>\n",
              "      <td>0</td>\n",
              "      <td>0</td>\n",
              "    </tr>\n",
              "    <tr>\n",
              "      <th>39</th>\n",
              "      <td>0</td>\n",
              "      <td>0</td>\n",
              "      <td>0</td>\n",
              "      <td>0</td>\n",
              "      <td>0</td>\n",
              "      <td>0</td>\n",
              "      <td>0</td>\n",
              "      <td>0</td>\n",
              "      <td>0</td>\n",
              "      <td>0</td>\n",
              "      <td>...</td>\n",
              "      <td>0</td>\n",
              "      <td>0</td>\n",
              "      <td>0</td>\n",
              "      <td>0</td>\n",
              "      <td>0</td>\n",
              "      <td>0</td>\n",
              "      <td>0</td>\n",
              "      <td>0</td>\n",
              "      <td>0</td>\n",
              "      <td>0</td>\n",
              "    </tr>\n",
              "    <tr>\n",
              "      <th>443</th>\n",
              "      <td>0</td>\n",
              "      <td>0</td>\n",
              "      <td>0</td>\n",
              "      <td>0</td>\n",
              "      <td>0</td>\n",
              "      <td>0</td>\n",
              "      <td>0</td>\n",
              "      <td>0</td>\n",
              "      <td>0</td>\n",
              "      <td>0</td>\n",
              "      <td>...</td>\n",
              "      <td>0</td>\n",
              "      <td>0</td>\n",
              "      <td>0</td>\n",
              "      <td>0</td>\n",
              "      <td>0</td>\n",
              "      <td>0</td>\n",
              "      <td>0</td>\n",
              "      <td>0</td>\n",
              "      <td>0</td>\n",
              "      <td>0</td>\n",
              "    </tr>\n",
              "    <tr>\n",
              "      <th>1268</th>\n",
              "      <td>0</td>\n",
              "      <td>0</td>\n",
              "      <td>0</td>\n",
              "      <td>0</td>\n",
              "      <td>0</td>\n",
              "      <td>0</td>\n",
              "      <td>0</td>\n",
              "      <td>0</td>\n",
              "      <td>0</td>\n",
              "      <td>0</td>\n",
              "      <td>...</td>\n",
              "      <td>0</td>\n",
              "      <td>0</td>\n",
              "      <td>0</td>\n",
              "      <td>0</td>\n",
              "      <td>0</td>\n",
              "      <td>0</td>\n",
              "      <td>0</td>\n",
              "      <td>0</td>\n",
              "      <td>0</td>\n",
              "      <td>0</td>\n",
              "    </tr>\n",
              "    <tr>\n",
              "      <th>280</th>\n",
              "      <td>0</td>\n",
              "      <td>0</td>\n",
              "      <td>0</td>\n",
              "      <td>0</td>\n",
              "      <td>0</td>\n",
              "      <td>0</td>\n",
              "      <td>0</td>\n",
              "      <td>0</td>\n",
              "      <td>0</td>\n",
              "      <td>0</td>\n",
              "      <td>...</td>\n",
              "      <td>0</td>\n",
              "      <td>0</td>\n",
              "      <td>0</td>\n",
              "      <td>0</td>\n",
              "      <td>0</td>\n",
              "      <td>0</td>\n",
              "      <td>0</td>\n",
              "      <td>0</td>\n",
              "      <td>0</td>\n",
              "      <td>0</td>\n",
              "    </tr>\n",
              "    <tr>\n",
              "      <th>382</th>\n",
              "      <td>0</td>\n",
              "      <td>0</td>\n",
              "      <td>0</td>\n",
              "      <td>0</td>\n",
              "      <td>0</td>\n",
              "      <td>0</td>\n",
              "      <td>0</td>\n",
              "      <td>0</td>\n",
              "      <td>0</td>\n",
              "      <td>0</td>\n",
              "      <td>...</td>\n",
              "      <td>0</td>\n",
              "      <td>0</td>\n",
              "      <td>0</td>\n",
              "      <td>0</td>\n",
              "      <td>0</td>\n",
              "      <td>0</td>\n",
              "      <td>0</td>\n",
              "      <td>0</td>\n",
              "      <td>0</td>\n",
              "      <td>0</td>\n",
              "    </tr>\n",
              "    <tr>\n",
              "      <th>624</th>\n",
              "      <td>0</td>\n",
              "      <td>0</td>\n",
              "      <td>0</td>\n",
              "      <td>0</td>\n",
              "      <td>0</td>\n",
              "      <td>0</td>\n",
              "      <td>0</td>\n",
              "      <td>0</td>\n",
              "      <td>0</td>\n",
              "      <td>0</td>\n",
              "      <td>...</td>\n",
              "      <td>0</td>\n",
              "      <td>0</td>\n",
              "      <td>0</td>\n",
              "      <td>0</td>\n",
              "      <td>0</td>\n",
              "      <td>0</td>\n",
              "      <td>0</td>\n",
              "      <td>0</td>\n",
              "      <td>0</td>\n",
              "      <td>0</td>\n",
              "    </tr>\n",
              "    <tr>\n",
              "      <th>430</th>\n",
              "      <td>0</td>\n",
              "      <td>0</td>\n",
              "      <td>0</td>\n",
              "      <td>0</td>\n",
              "      <td>0</td>\n",
              "      <td>0</td>\n",
              "      <td>0</td>\n",
              "      <td>0</td>\n",
              "      <td>0</td>\n",
              "      <td>0</td>\n",
              "      <td>...</td>\n",
              "      <td>0</td>\n",
              "      <td>0</td>\n",
              "      <td>0</td>\n",
              "      <td>0</td>\n",
              "      <td>0</td>\n",
              "      <td>0</td>\n",
              "      <td>0</td>\n",
              "      <td>0</td>\n",
              "      <td>0</td>\n",
              "      <td>0</td>\n",
              "    </tr>\n",
              "    <tr>\n",
              "      <th>836</th>\n",
              "      <td>0</td>\n",
              "      <td>0</td>\n",
              "      <td>0</td>\n",
              "      <td>0</td>\n",
              "      <td>0</td>\n",
              "      <td>0</td>\n",
              "      <td>0</td>\n",
              "      <td>0</td>\n",
              "      <td>0</td>\n",
              "      <td>0</td>\n",
              "      <td>...</td>\n",
              "      <td>0</td>\n",
              "      <td>0</td>\n",
              "      <td>0</td>\n",
              "      <td>0</td>\n",
              "      <td>0</td>\n",
              "      <td>0</td>\n",
              "      <td>0</td>\n",
              "      <td>0</td>\n",
              "      <td>0</td>\n",
              "      <td>0</td>\n",
              "    </tr>\n",
              "  </tbody>\n",
              "</table>\n",
              "<p>10 rows × 853 columns</p>\n",
              "</div>"
            ],
            "text/plain": [
              "      categorical_0_ec  categorical_0_ba  categorical_0_bg  categorical_0_b  \\\n",
              "294                  0                 0                 0                0   \n",
              "900                  0                 0                 0                0   \n",
              "39                   0                 0                 0                0   \n",
              "443                  0                 0                 0                0   \n",
              "1268                 0                 0                 0                0   \n",
              "280                  0                 0                 0                0   \n",
              "382                  0                 0                 0                0   \n",
              "624                  0                 0                 0                0   \n",
              "430                  0                 0                 0                0   \n",
              "836                  0                 0                 0                0   \n",
              "\n",
              "      categorical_0_h  categorical_0_j  categorical_0_ge  categorical_0_cg  \\\n",
              "294                 0                0                 0                 0   \n",
              "900                 1                0                 0                 0   \n",
              "39                  0                0                 0                 0   \n",
              "443                 0                0                 0                 0   \n",
              "1268                0                0                 0                 0   \n",
              "280                 0                0                 0                 0   \n",
              "382                 0                0                 0                 0   \n",
              "624                 0                0                 0                 0   \n",
              "430                 0                0                 0                 0   \n",
              "836                 0                0                 0                 0   \n",
              "\n",
              "      categorical_0_fh  categorical_0_dc        ...         categorical_9_ga  \\\n",
              "294                  0                 0        ...                        0   \n",
              "900                  0                 0        ...                        0   \n",
              "39                   0                 0        ...                        0   \n",
              "443                  0                 0        ...                        0   \n",
              "1268                 0                 0        ...                        0   \n",
              "280                  0                 0        ...                        0   \n",
              "382                  0                 0        ...                        0   \n",
              "624                  0                 0        ...                        0   \n",
              "430                  0                 0        ...                        0   \n",
              "836                  0                 0        ...                        0   \n",
              "\n",
              "      categorical_9_eb  categorical_9_gg  categorical_9_hj  categorical_9_gi  \\\n",
              "294                  0                 0                 0                 0   \n",
              "900                  0                 0                 0                 0   \n",
              "39                   0                 0                 0                 0   \n",
              "443                  0                 0                 0                 0   \n",
              "1268                 0                 0                 0                 0   \n",
              "280                  0                 0                 0                 0   \n",
              "382                  0                 0                 0                 0   \n",
              "624                  0                 0                 0                 0   \n",
              "430                  0                 0                 0                 0   \n",
              "836                  0                 0                 0                 0   \n",
              "\n",
              "      categorical_9_he  categorical_9_ff  categorical_9_hb  categorical_9_gd  \\\n",
              "294                  0                 0                 0                 0   \n",
              "900                  0                 0                 0                 0   \n",
              "39                   0                 0                 0                 0   \n",
              "443                  0                 0                 0                 0   \n",
              "1268                 0                 0                 0                 0   \n",
              "280                  0                 0                 0                 0   \n",
              "382                  0                 0                 0                 0   \n",
              "624                  0                 0                 0                 0   \n",
              "430                  0                 0                 0                 0   \n",
              "836                  0                 0                 0                 0   \n",
              "\n",
              "      categorical_9_fi  \n",
              "294                  0  \n",
              "900                  0  \n",
              "39                   0  \n",
              "443                  0  \n",
              "1268                 0  \n",
              "280                  0  \n",
              "382                  0  \n",
              "624                  0  \n",
              "430                  0  \n",
              "836                  0  \n",
              "\n",
              "[10 rows x 853 columns]"
            ]
          },
          "metadata": {
            "tags": []
          },
          "execution_count": 14
        }
      ]
    },
    {
      "metadata": {
        "id": "8HD4uwYjNbas",
        "colab_type": "text"
      },
      "cell_type": "markdown",
      "source": [
        "We can fit the same model with the one-hot encoded data as we fit to the label-encoded data."
      ]
    },
    {
      "metadata": {
        "id": "-Bxu2FRyfqKb",
        "colab_type": "code",
        "outputId": "016fb2e2-153c-4f03-df20-5f8d022dc43f",
        "colab": {
          "base_uri": "https://localhost:8080/",
          "height": 34
        }
      },
      "cell_type": "code",
      "source": [
        "# Regression model\n",
        "model_oh = Pipeline([\n",
        "    ('encoder', OneHotEncoder()),\n",
        "    ('scaler', StandardScaler()),\n",
        "    ('imputer', SimpleImputer(strategy='mean')),\n",
        "    ('regressor', BayesianRidge())\n",
        "])\n",
        "\n",
        "# Cross-validated MAE\n",
        "scores = cross_val_score(model_oh, X_train, y_train, \n",
        "                         cv=3, scoring=mae_scorer)\n",
        "print('Cross-validated MAE:', scores.mean(), '+/-', scores.std())"
      ],
      "execution_count": 15,
      "outputs": [
        {
          "output_type": "stream",
          "text": [
            "Cross-validated MAE: 1.0386222429286203 +/- 0.028114652268138147\n"
          ],
          "name": "stdout"
        }
      ]
    },
    {
      "metadata": {
        "id": "Hu8cQWbsOHHI",
        "colab_type": "text"
      },
      "cell_type": "markdown",
      "source": [
        "TODO: better than just guessing the mean, but not by a whole lot!"
      ]
    },
    {
      "metadata": {
        "id": "T5wvQe0da6_S",
        "colab_type": "code",
        "outputId": "eda3bf51-5e68-4b5b-8d4e-34929cdc9414",
        "colab": {
          "base_uri": "https://localhost:8080/",
          "height": 34
        }
      },
      "cell_type": "code",
      "source": [
        "# MAE on test data\n",
        "model_oh.fit(X_train, y_train)\n",
        "y_pred = model_oh.predict(X_test)\n",
        "test_mae = mean_absolute_error(y_test, y_pred)\n",
        "print('Validation MAE:', test_mae)"
      ],
      "execution_count": 16,
      "outputs": [
        {
          "output_type": "stream",
          "text": [
            "Validation MAE: 1.028751865940599\n"
          ],
          "name": "stdout"
        }
      ]
    },
    {
      "metadata": {
        "id": "pJR4JtnALzk7",
        "colab_type": "text"
      },
      "cell_type": "markdown",
      "source": [
        "## Target Encoding\n",
        "\n",
        "TODO: target encoding replaces categorical vals w/ the mean of the target for that category; explain w/ diagrams"
      ]
    },
    {
      "metadata": {
        "id": "eLTfbgi02ram",
        "colab_type": "code",
        "colab": {}
      },
      "cell_type": "code",
      "source": [
        "class TargetEncoder(BaseEstimator, TransformerMixin):\n",
        "    \"\"\"Target encoder.\n",
        "    \n",
        "    Replaces categorical column(s) with the mean target value for\n",
        "    each category.\n",
        "\n",
        "    \"\"\"\n",
        "    \n",
        "    def __init__(self, cols=None):\n",
        "        \"\"\"Target encoder\n",
        "        \n",
        "        Parameters\n",
        "        ----------\n",
        "        cols : list of str\n",
        "            Columns to target encode.  Default is to target encode all \n",
        "            categorical columns in the DataFrame.\n",
        "        \"\"\"\n",
        "        if isinstance(cols, str):\n",
        "            self.cols = [cols]\n",
        "        else:\n",
        "            self.cols = cols\n",
        "        \n",
        "        \n",
        "    def fit(self, X, y):\n",
        "        \"\"\"Fit target encoder to X and y\n",
        "        \n",
        "        Parameters\n",
        "        ----------\n",
        "        X : pandas DataFrame, shape [n_samples, n_columns]\n",
        "            DataFrame containing columns to encode\n",
        "        y : pandas Series, shape = [n_samples]\n",
        "            Target values.\n",
        "            \n",
        "        Returns\n",
        "        -------\n",
        "        self : encoder\n",
        "            Returns self.\n",
        "        \"\"\"\n",
        "        \n",
        "        # Encode all categorical cols by default\n",
        "        if self.cols is None:\n",
        "            self.cols = [col for col in X if str(X[col].dtype)=='object']\n",
        "\n",
        "        # Check columns are in X\n",
        "        for col in self.cols:\n",
        "            if col not in X:\n",
        "                raise ValueError('Column \\''+col+'\\' not in X')\n",
        "\n",
        "        # Encode each element of each column\n",
        "        self.maps = dict() #dict to store map for each column\n",
        "        for col in self.cols:\n",
        "            tmap = dict()\n",
        "            uniques = X[col].unique()\n",
        "            for unique in uniques:\n",
        "                tmap[unique] = y[X[col]==unique].mean()\n",
        "            self.maps[col] = tmap\n",
        "            \n",
        "        return self\n",
        "\n",
        "        \n",
        "    def transform(self, X, y=None):\n",
        "        \"\"\"Perform the target encoding transformation.\n",
        "        \n",
        "        Parameters\n",
        "        ----------\n",
        "        X : pandas DataFrame, shape [n_samples, n_columns]\n",
        "            DataFrame containing columns to encode\n",
        "            \n",
        "        Returns\n",
        "        -------\n",
        "        pandas DataFrame\n",
        "            Input DataFrame with transformed columns\n",
        "        \"\"\"\n",
        "        Xo = X.copy()\n",
        "        for col, tmap in self.maps.items():\n",
        "            vals = np.full(X.shape[0], np.nan)\n",
        "            for val, mean_target in tmap.items():\n",
        "                vals[X[col]==val] = mean_target\n",
        "            Xo[col] = vals\n",
        "        return Xo\n",
        "            \n",
        "            \n",
        "    def fit_transform(self, X, y=None):\n",
        "        \"\"\"Fit and transform the data via target encoding.\n",
        "        \n",
        "        Parameters\n",
        "        ----------\n",
        "        X : pandas DataFrame, shape [n_samples, n_columns]\n",
        "            DataFrame containing columns to encode\n",
        "        y : pandas Series, shape = [n_samples]\n",
        "            Target values (required!).\n",
        "\n",
        "        Returns\n",
        "        -------\n",
        "        pandas DataFrame\n",
        "            Input DataFrame with transformed columns\n",
        "        \"\"\"\n",
        "        return self.fit(X, y).transform(X, y)"
      ],
      "execution_count": 0,
      "outputs": []
    },
    {
      "metadata": {
        "id": "_S8jg9gZVvrV",
        "colab_type": "text"
      },
      "cell_type": "markdown",
      "source": [
        "Now, instead of creating a bazillion columns (like with one-hot encoding), we can simply replace each category with the mean target value for that category.  This allows us to represent the categorical information in the same dimensionality, while retaining some information about the categories.  By target-encoding the features matrix, we get a matrix of the same size, but filled with continuous values instead of categories:"
      ]
    },
    {
      "metadata": {
        "id": "G3Q_B2N5V2ZN",
        "colab_type": "code",
        "outputId": "9362b038-9bc3-4e2e-81d8-0a6a14dcfd97",
        "colab": {
          "base_uri": "https://localhost:8080/",
          "height": 379
        }
      },
      "cell_type": "code",
      "source": [
        "# Target encode the categorical data\n",
        "te = TargetEncoder()\n",
        "X_target_encoded = te.fit_transform(X_train, y_train)\n",
        "X_target_encoded.sample(10)"
      ],
      "execution_count": 18,
      "outputs": [
        {
          "output_type": "execute_result",
          "data": {
            "text/html": [
              "<div>\n",
              "<style scoped>\n",
              "    .dataframe tbody tr th:only-of-type {\n",
              "        vertical-align: middle;\n",
              "    }\n",
              "\n",
              "    .dataframe tbody tr th {\n",
              "        vertical-align: top;\n",
              "    }\n",
              "\n",
              "    .dataframe thead th {\n",
              "        text-align: right;\n",
              "    }\n",
              "</style>\n",
              "<table border=\"1\" class=\"dataframe\">\n",
              "  <thead>\n",
              "    <tr style=\"text-align: right;\">\n",
              "      <th></th>\n",
              "      <th>categorical_0</th>\n",
              "      <th>categorical_1</th>\n",
              "      <th>categorical_2</th>\n",
              "      <th>categorical_3</th>\n",
              "      <th>categorical_4</th>\n",
              "      <th>categorical_5</th>\n",
              "      <th>categorical_6</th>\n",
              "      <th>categorical_7</th>\n",
              "      <th>categorical_8</th>\n",
              "      <th>categorical_9</th>\n",
              "    </tr>\n",
              "  </thead>\n",
              "  <tbody>\n",
              "    <tr>\n",
              "      <th>711</th>\n",
              "      <td>-0.030636</td>\n",
              "      <td>0.192812</td>\n",
              "      <td>0.269273</td>\n",
              "      <td>0.131628</td>\n",
              "      <td>0.319769</td>\n",
              "      <td>0.190861</td>\n",
              "      <td>0.142159</td>\n",
              "      <td>0.393587</td>\n",
              "      <td>-0.766454</td>\n",
              "      <td>-0.312227</td>\n",
              "    </tr>\n",
              "    <tr>\n",
              "      <th>475</th>\n",
              "      <td>0.365423</td>\n",
              "      <td>-0.605778</td>\n",
              "      <td>-0.258930</td>\n",
              "      <td>0.038321</td>\n",
              "      <td>-0.283131</td>\n",
              "      <td>0.046135</td>\n",
              "      <td>0.316052</td>\n",
              "      <td>-0.120822</td>\n",
              "      <td>-0.425927</td>\n",
              "      <td>-0.163454</td>\n",
              "    </tr>\n",
              "    <tr>\n",
              "      <th>273</th>\n",
              "      <td>0.110462</td>\n",
              "      <td>1.093313</td>\n",
              "      <td>0.309760</td>\n",
              "      <td>0.474308</td>\n",
              "      <td>0.090909</td>\n",
              "      <td>0.003120</td>\n",
              "      <td>1.558923</td>\n",
              "      <td>0.244971</td>\n",
              "      <td>-0.387846</td>\n",
              "      <td>-0.327537</td>\n",
              "    </tr>\n",
              "    <tr>\n",
              "      <th>9</th>\n",
              "      <td>-0.848020</td>\n",
              "      <td>0.300673</td>\n",
              "      <td>0.125095</td>\n",
              "      <td>-0.650361</td>\n",
              "      <td>-0.252932</td>\n",
              "      <td>0.293856</td>\n",
              "      <td>-0.197504</td>\n",
              "      <td>0.050085</td>\n",
              "      <td>-0.587633</td>\n",
              "      <td>-0.413439</td>\n",
              "    </tr>\n",
              "    <tr>\n",
              "      <th>275</th>\n",
              "      <td>0.126068</td>\n",
              "      <td>0.180776</td>\n",
              "      <td>-0.143977</td>\n",
              "      <td>-0.131238</td>\n",
              "      <td>0.090909</td>\n",
              "      <td>-0.760367</td>\n",
              "      <td>0.326620</td>\n",
              "      <td>-0.037488</td>\n",
              "      <td>-0.121713</td>\n",
              "      <td>-0.244310</td>\n",
              "    </tr>\n",
              "    <tr>\n",
              "      <th>336</th>\n",
              "      <td>0.543412</td>\n",
              "      <td>-0.045947</td>\n",
              "      <td>0.180144</td>\n",
              "      <td>0.279675</td>\n",
              "      <td>-0.532591</td>\n",
              "      <td>0.338287</td>\n",
              "      <td>0.071977</td>\n",
              "      <td>0.113531</td>\n",
              "      <td>0.527567</td>\n",
              "      <td>1.290724</td>\n",
              "    </tr>\n",
              "    <tr>\n",
              "      <th>1462</th>\n",
              "      <td>-0.065061</td>\n",
              "      <td>-0.605778</td>\n",
              "      <td>0.172445</td>\n",
              "      <td>-0.268622</td>\n",
              "      <td>-0.283131</td>\n",
              "      <td>-0.270112</td>\n",
              "      <td>-0.197504</td>\n",
              "      <td>0.068821</td>\n",
              "      <td>0.371461</td>\n",
              "      <td>0.966579</td>\n",
              "    </tr>\n",
              "    <tr>\n",
              "      <th>1436</th>\n",
              "      <td>0.186988</td>\n",
              "      <td>0.564015</td>\n",
              "      <td>0.135396</td>\n",
              "      <td>0.474308</td>\n",
              "      <td>0.338006</td>\n",
              "      <td>0.479294</td>\n",
              "      <td>0.063384</td>\n",
              "      <td>0.342170</td>\n",
              "      <td>-0.054090</td>\n",
              "      <td>-0.163454</td>\n",
              "    </tr>\n",
              "    <tr>\n",
              "      <th>1611</th>\n",
              "      <td>0.350326</td>\n",
              "      <td>-0.188197</td>\n",
              "      <td>-0.537682</td>\n",
              "      <td>-0.391143</td>\n",
              "      <td>0.212399</td>\n",
              "      <td>-1.811086</td>\n",
              "      <td>0.204642</td>\n",
              "      <td>-0.622682</td>\n",
              "      <td>-0.425927</td>\n",
              "      <td>-0.489371</td>\n",
              "    </tr>\n",
              "    <tr>\n",
              "      <th>166</th>\n",
              "      <td>0.480637</td>\n",
              "      <td>0.975462</td>\n",
              "      <td>0.135396</td>\n",
              "      <td>-0.131238</td>\n",
              "      <td>0.323870</td>\n",
              "      <td>0.279502</td>\n",
              "      <td>-0.533179</td>\n",
              "      <td>0.050085</td>\n",
              "      <td>0.016449</td>\n",
              "      <td>1.410449</td>\n",
              "    </tr>\n",
              "  </tbody>\n",
              "</table>\n",
              "</div>"
            ],
            "text/plain": [
              "      categorical_0  categorical_1  categorical_2  categorical_3  \\\n",
              "711       -0.030636       0.192812       0.269273       0.131628   \n",
              "475        0.365423      -0.605778      -0.258930       0.038321   \n",
              "273        0.110462       1.093313       0.309760       0.474308   \n",
              "9         -0.848020       0.300673       0.125095      -0.650361   \n",
              "275        0.126068       0.180776      -0.143977      -0.131238   \n",
              "336        0.543412      -0.045947       0.180144       0.279675   \n",
              "1462      -0.065061      -0.605778       0.172445      -0.268622   \n",
              "1436       0.186988       0.564015       0.135396       0.474308   \n",
              "1611       0.350326      -0.188197      -0.537682      -0.391143   \n",
              "166        0.480637       0.975462       0.135396      -0.131238   \n",
              "\n",
              "      categorical_4  categorical_5  categorical_6  categorical_7  \\\n",
              "711        0.319769       0.190861       0.142159       0.393587   \n",
              "475       -0.283131       0.046135       0.316052      -0.120822   \n",
              "273        0.090909       0.003120       1.558923       0.244971   \n",
              "9         -0.252932       0.293856      -0.197504       0.050085   \n",
              "275        0.090909      -0.760367       0.326620      -0.037488   \n",
              "336       -0.532591       0.338287       0.071977       0.113531   \n",
              "1462      -0.283131      -0.270112      -0.197504       0.068821   \n",
              "1436       0.338006       0.479294       0.063384       0.342170   \n",
              "1611       0.212399      -1.811086       0.204642      -0.622682   \n",
              "166        0.323870       0.279502      -0.533179       0.050085   \n",
              "\n",
              "      categorical_8  categorical_9  \n",
              "711       -0.766454      -0.312227  \n",
              "475       -0.425927      -0.163454  \n",
              "273       -0.387846      -0.327537  \n",
              "9         -0.587633      -0.413439  \n",
              "275       -0.121713      -0.244310  \n",
              "336        0.527567       1.290724  \n",
              "1462       0.371461       0.966579  \n",
              "1436      -0.054090      -0.163454  \n",
              "1611      -0.425927      -0.489371  \n",
              "166        0.016449       1.410449  "
            ]
          },
          "metadata": {
            "tags": []
          },
          "execution_count": 18
        }
      ]
    },
    {
      "metadata": {
        "id": "87YTp1sEz5PP",
        "colab_type": "text"
      },
      "cell_type": "markdown",
      "source": [
        "Note that the size of our target-encoded matrix is the same size as the original (unlike the huge one-hot transformed matrix):"
      ]
    },
    {
      "metadata": {
        "id": "thHOhchhz8mk",
        "colab_type": "code",
        "outputId": "3276a603-6b79-43d8-9c0a-7b92cdcbee5c",
        "colab": {
          "base_uri": "https://localhost:8080/",
          "height": 51
        }
      },
      "cell_type": "code",
      "source": [
        "# Compare sizes\n",
        "print('Original size:', X_train.shape)\n",
        "print('Target encoded size:', X_target_encoded.shape)"
      ],
      "execution_count": 19,
      "outputs": [
        {
          "output_type": "stream",
          "text": [
            "Original size: (1000, 10)\n",
            "Target encoded size: (1000, 10)\n"
          ],
          "name": "stdout"
        }
      ]
    },
    {
      "metadata": {
        "id": "SRgdJww0Zj0N",
        "colab_type": "text"
      },
      "cell_type": "markdown",
      "source": [
        "Also, each column has exactly as many unique continuous values as it did categories.  This is because we've simply replaced the category with the mean target value for that category."
      ]
    },
    {
      "metadata": {
        "id": "QpKHqIysZvcm",
        "colab_type": "code",
        "outputId": "25976035-9399-4f20-cd0c-db32df99864c",
        "colab": {
          "base_uri": "https://localhost:8080/",
          "height": 442
        }
      },
      "cell_type": "code",
      "source": [
        "# Compare category counts\n",
        "print('Original:')\n",
        "print(X_train.nunique())\n",
        "print('\\nTarget encoded:')\n",
        "print(X_target_encoded.nunique())"
      ],
      "execution_count": 20,
      "outputs": [
        {
          "output_type": "stream",
          "text": [
            "Original:\n",
            "categorical_0    84\n",
            "categorical_1    81\n",
            "categorical_2    85\n",
            "categorical_3    88\n",
            "categorical_4    84\n",
            "categorical_5    86\n",
            "categorical_6    88\n",
            "categorical_7    88\n",
            "categorical_8    90\n",
            "categorical_9    79\n",
            "dtype: int64\n",
            "\n",
            "Target encoded:\n",
            "categorical_0    84\n",
            "categorical_1    81\n",
            "categorical_2    85\n",
            "categorical_3    88\n",
            "categorical_4    84\n",
            "categorical_5    86\n",
            "categorical_6    88\n",
            "categorical_7    88\n",
            "categorical_8    90\n",
            "categorical_9    79\n",
            "dtype: int64\n"
          ],
          "name": "stdout"
        }
      ]
    },
    {
      "metadata": {
        "id": "iTTtxLxnWEN8",
        "colab_type": "text"
      },
      "cell_type": "markdown",
      "source": [
        "If we fit the same model as before, but now after target-encoding the categories, our predictions get much better!"
      ]
    },
    {
      "metadata": {
        "id": "q7j8DFVNWGiF",
        "colab_type": "code",
        "outputId": "918708cd-63cf-45fc-d657-fcdcff2e2958",
        "colab": {
          "base_uri": "https://localhost:8080/",
          "height": 34
        }
      },
      "cell_type": "code",
      "source": [
        "# Regression model\n",
        "model_te = Pipeline([\n",
        "    ('encoder', TargetEncoder()),\n",
        "    ('scaler', StandardScaler()),\n",
        "    ('imputer', SimpleImputer(strategy='mean')),\n",
        "    ('regressor', BayesianRidge())\n",
        "])\n",
        "\n",
        "# Cross-validated MAE\n",
        "scores = cross_val_score(model_te, X_train, y_train, \n",
        "                         cv=3, scoring=mae_scorer)\n",
        "print('Cross-validated MAE:', scores.mean(), '+/-', scores.std())"
      ],
      "execution_count": 21,
      "outputs": [
        {
          "output_type": "stream",
          "text": [
            "Cross-validated MAE: 0.9402165006761526 +/- 0.029713106940791913\n"
          ],
          "name": "stdout"
        }
      ]
    },
    {
      "metadata": {
        "id": "RA5txfaXcdcA",
        "colab_type": "text"
      },
      "cell_type": "markdown",
      "source": [
        "The performance on the test data is about the same, but slightly better, because we've given it more samples on which to train.\n"
      ]
    },
    {
      "metadata": {
        "id": "Sq3DV6aIYMeE",
        "colab_type": "code",
        "outputId": "3d6f9681-36ba-47f3-dd2e-1f61bdf14923",
        "colab": {
          "base_uri": "https://localhost:8080/",
          "height": 34
        }
      },
      "cell_type": "code",
      "source": [
        "# MAE on test data\n",
        "model_te.fit(X_train, y_train)\n",
        "y_pred = model_te.predict(X_test)\n",
        "test_mae = mean_absolute_error(y_test, y_pred)\n",
        "print('Validation MAE:', test_mae)"
      ],
      "execution_count": 22,
      "outputs": [
        {
          "output_type": "stream",
          "text": [
            "Validation MAE: 0.9325682408250325\n"
          ],
          "name": "stdout"
        }
      ]
    },
    {
      "metadata": {
        "id": "lTsmSMPyYPtV",
        "colab_type": "text"
      },
      "cell_type": "markdown",
      "source": [
        "While the error is lower using target encoding than with one-hot encoding, in naively target-encoding our categories, we've introduced a data leak from the target variable for one sample into the features for that same sample!  \n",
        "\n",
        "TODO: explain w/ diagrams\n",
        "\n",
        "Leaking the target variable into our predictors causes our learning algorithm to over-depend on the target-encoded features, and overfit the data.  Although we gain predictive power by keeping the dimensionality of our training data reasonable, we loose nearly all of that gain by allowing our model to overfit to the target-encoded columns!"
      ]
    },
    {
      "metadata": {
        "id": "d_CvINwf2v9f",
        "colab_type": "text"
      },
      "cell_type": "markdown",
      "source": [
        "## Cross-Fold Target Encoding\n",
        "\n",
        "To clamp down on the data leakage, we need to ensure that we're not using the using the target value from a given sample to compute its target-encoded values.  However, we can still use *other* samples in the training data to compute the mean target values for *this* sample's category.  \n",
        "\n",
        "There are a few different ways we can do this.  We could compute the per-category target means in a cross-fold fashion, or by leaving current sample out (leave-one-out).\n",
        "\n",
        "TODO: explain cross-fold w /diagrams"
      ]
    },
    {
      "metadata": {
        "id": "lls4RKG-2vZ4",
        "colab_type": "code",
        "colab": {}
      },
      "cell_type": "code",
      "source": [
        "class TargetEncoderCV(TargetEncoder):\n",
        "    \"\"\"Cross-validated target encoder.\n",
        "    \"\"\"\n",
        "    \n",
        "    def __init__(self, n_splits=3, shuffle=True, cols=None):\n",
        "        \"\"\"Cross-validated target encoding for categorical features.\n",
        "        \n",
        "        Parameters\n",
        "        ----------\n",
        "        n_splits : int\n",
        "            Number of cross-validation splits. Default = 3.\n",
        "        shuffle : bool\n",
        "            Whether to shuffle the data when splitting into folds.\n",
        "        cols : list of str\n",
        "            Columns to target encode.\n",
        "        \"\"\"\n",
        "        self.n_splits = n_splits\n",
        "        self.shuffle = shuffle\n",
        "        self.cols = cols\n",
        "        \n",
        "\n",
        "    def fit(self, X, y):\n",
        "        \"\"\"Fit target encoder to X and y\n",
        "        \n",
        "        Parameters\n",
        "        ----------\n",
        "        X : pandas DataFrame, shape [n_samples, n_columns]\n",
        "            DataFrame containing columns to encode\n",
        "        y : pandas Series, shape = [n_samples]\n",
        "            Target values.\n",
        "            \n",
        "        Returns\n",
        "        -------\n",
        "        self : encoder\n",
        "            Returns self.\n",
        "        \"\"\"\n",
        "        self._target_encoder = TargetEncoder(cols=self.cols)\n",
        "        self._target_encoder.fit(X, y)\n",
        "        return self\n",
        "\n",
        "    \n",
        "    def transform(self, X, y=None):\n",
        "        \"\"\"Perform the target encoding transformation.\n",
        "\n",
        "        Uses cross-validated target encoding for the training fold, and uses\n",
        "        normal target encoding for the test fold.\n",
        "\n",
        "        Parameters\n",
        "        ----------\n",
        "        X : pandas DataFrame, shape [n_samples, n_columns]\n",
        "            DataFrame containing columns to encode\n",
        "\n",
        "        Returns\n",
        "        -------\n",
        "        pandas DataFrame\n",
        "            Input DataFrame with transformed columns\n",
        "        \"\"\"\n",
        "\n",
        "        # Use target encoding from fit() if this is test data\n",
        "        if y is None:\n",
        "            return self._target_encoder.transform(X)\n",
        "\n",
        "        # Compute means for each fold\n",
        "        self._train_ix = []\n",
        "        self._test_ix = []\n",
        "        self._fit_tes = []\n",
        "        kf = KFold(n_splits=self.n_splits, shuffle=self.shuffle)\n",
        "        for train_ix, test_ix in kf.split(X):\n",
        "            self._train_ix.append(train_ix)\n",
        "            self._test_ix.append(test_ix)\n",
        "            te = TargetEncoder(cols=self.cols)\n",
        "            if isinstance(X, pd.DataFrame):\n",
        "                self._fit_tes.append(te.fit(X.iloc[train_ix,:],\n",
        "                                            y.iloc[train_ix]))\n",
        "            elif isinstance(X, np.ndarray):\n",
        "                self._fit_tes.append(te.fit(X[train_ix,:], y[train_ix]))\n",
        "            else:\n",
        "                raise TypeError('X must be DataFrame or ndarray')\n",
        "\n",
        "        # Apply means across folds\n",
        "        Xo = X.copy()\n",
        "        for ix in range(len(self._test_ix)):\n",
        "            test_ix = self._test_ix[ix]\n",
        "            if isinstance(X, pd.DataFrame):\n",
        "                Xo.iloc[test_ix,:] = self._fit_tes[ix].transform(X.iloc[test_ix,:])\n",
        "            elif isinstance(X, np.ndarray):\n",
        "                Xo[test_ix,:] = self._fit_tes[ix].transform(X[test_ix,:])\n",
        "            else:\n",
        "                raise TypeError('X must be DataFrame or ndarray')\n",
        "        return Xo\n",
        "\n",
        "            \n",
        "    def fit_transform(self, X, y=None):\n",
        "        \"\"\"Fit and transform the data via target encoding.\n",
        "        \n",
        "        Parameters\n",
        "        ----------\n",
        "        X : pandas DataFrame, shape [n_samples, n_columns]\n",
        "            DataFrame containing columns to encode\n",
        "        y : pandas Series, shape = [n_samples]\n",
        "            Target values (required!).\n",
        "\n",
        "        Returns\n",
        "        -------\n",
        "        pandas DataFrame\n",
        "            Input DataFrame with transformed columns\n",
        "        \"\"\"\n",
        "        return self.fit(X, y).transform(X, y)"
      ],
      "execution_count": 0,
      "outputs": []
    },
    {
      "metadata": {
        "id": "2e3eQ8-6Z1It",
        "colab_type": "text"
      },
      "cell_type": "markdown",
      "source": [
        "With this encoder, we can convert the categories into continuous values, just like we did with the naive target encoding."
      ]
    },
    {
      "metadata": {
        "id": "FDlvSOS5Z12A",
        "colab_type": "code",
        "outputId": "5796be05-a562-4f45-f7b2-23ef3ee06fd3",
        "colab": {
          "base_uri": "https://localhost:8080/",
          "height": 379
        }
      },
      "cell_type": "code",
      "source": [
        "# Cross-fold Target encode the categorical data\n",
        "te = TargetEncoderCV()\n",
        "X_target_encoded_cv = te.fit_transform(X_train, y_train)\n",
        "X_target_encoded_cv.sample(10)"
      ],
      "execution_count": 24,
      "outputs": [
        {
          "output_type": "execute_result",
          "data": {
            "text/html": [
              "<div>\n",
              "<style scoped>\n",
              "    .dataframe tbody tr th:only-of-type {\n",
              "        vertical-align: middle;\n",
              "    }\n",
              "\n",
              "    .dataframe tbody tr th {\n",
              "        vertical-align: top;\n",
              "    }\n",
              "\n",
              "    .dataframe thead th {\n",
              "        text-align: right;\n",
              "    }\n",
              "</style>\n",
              "<table border=\"1\" class=\"dataframe\">\n",
              "  <thead>\n",
              "    <tr style=\"text-align: right;\">\n",
              "      <th></th>\n",
              "      <th>categorical_0</th>\n",
              "      <th>categorical_1</th>\n",
              "      <th>categorical_2</th>\n",
              "      <th>categorical_3</th>\n",
              "      <th>categorical_4</th>\n",
              "      <th>categorical_5</th>\n",
              "      <th>categorical_6</th>\n",
              "      <th>categorical_7</th>\n",
              "      <th>categorical_8</th>\n",
              "      <th>categorical_9</th>\n",
              "    </tr>\n",
              "  </thead>\n",
              "  <tbody>\n",
              "    <tr>\n",
              "      <th>236</th>\n",
              "      <td>0.233017</td>\n",
              "      <td>0.266851</td>\n",
              "      <td>0.620411</td>\n",
              "      <td>-0.0917691</td>\n",
              "      <td>0.0238002</td>\n",
              "      <td>0.205387</td>\n",
              "      <td>-0.182844</td>\n",
              "      <td>0.209843</td>\n",
              "      <td>-0.201101</td>\n",
              "      <td>1.95302</td>\n",
              "    </tr>\n",
              "    <tr>\n",
              "      <th>103</th>\n",
              "      <td>0.0419825</td>\n",
              "      <td>-0.133423</td>\n",
              "      <td>-0.152355</td>\n",
              "      <td>0.768532</td>\n",
              "      <td>-0.105238</td>\n",
              "      <td>-0.0010254</td>\n",
              "      <td>-0.0768051</td>\n",
              "      <td>-0.164632</td>\n",
              "      <td>-0.108223</td>\n",
              "      <td>-1.16817</td>\n",
              "    </tr>\n",
              "    <tr>\n",
              "      <th>502</th>\n",
              "      <td>0.335987</td>\n",
              "      <td>0.686906</td>\n",
              "      <td>0.00831367</td>\n",
              "      <td>0.780618</td>\n",
              "      <td>0.253249</td>\n",
              "      <td>-0.588782</td>\n",
              "      <td>-0.0104415</td>\n",
              "      <td>-0.139042</td>\n",
              "      <td>0.258339</td>\n",
              "      <td>2.08561</td>\n",
              "    </tr>\n",
              "    <tr>\n",
              "      <th>870</th>\n",
              "      <td>0.251286</td>\n",
              "      <td>-0.221214</td>\n",
              "      <td>-0.21522</td>\n",
              "      <td>-0.528595</td>\n",
              "      <td>-0.320334</td>\n",
              "      <td>0.484078</td>\n",
              "      <td>0.593479</td>\n",
              "      <td>0.131563</td>\n",
              "      <td>0.152882</td>\n",
              "      <td>-0.333682</td>\n",
              "    </tr>\n",
              "    <tr>\n",
              "      <th>357</th>\n",
              "      <td>-0.105762</td>\n",
              "      <td>-0.108175</td>\n",
              "      <td>-0.2422</td>\n",
              "      <td>-1.08681</td>\n",
              "      <td>-0.0790136</td>\n",
              "      <td>-0.367782</td>\n",
              "      <td>0.287205</td>\n",
              "      <td>0.542695</td>\n",
              "      <td>0.064133</td>\n",
              "      <td>-0.670692</td>\n",
              "    </tr>\n",
              "    <tr>\n",
              "      <th>1372</th>\n",
              "      <td>0.169969</td>\n",
              "      <td>0.366924</td>\n",
              "      <td>0.399639</td>\n",
              "      <td>-0.0954622</td>\n",
              "      <td>0.0220233</td>\n",
              "      <td>-0.588782</td>\n",
              "      <td>-0.529951</td>\n",
              "      <td>0.233605</td>\n",
              "      <td>-0.260713</td>\n",
              "      <td>-0.130225</td>\n",
              "    </tr>\n",
              "    <tr>\n",
              "      <th>620</th>\n",
              "      <td>0.372039</td>\n",
              "      <td>0.110516</td>\n",
              "      <td>-0.259249</td>\n",
              "      <td>-0.0814691</td>\n",
              "      <td>0.294292</td>\n",
              "      <td>0.705151</td>\n",
              "      <td>0.300228</td>\n",
              "      <td>0.227451</td>\n",
              "      <td>0.185972</td>\n",
              "      <td>1.53523</td>\n",
              "    </tr>\n",
              "    <tr>\n",
              "      <th>1147</th>\n",
              "      <td>-0.294882</td>\n",
              "      <td>0.477974</td>\n",
              "      <td>0.531971</td>\n",
              "      <td>0.210054</td>\n",
              "      <td>-0.171589</td>\n",
              "      <td>-0.106227</td>\n",
              "      <td>0.0837924</td>\n",
              "      <td>-0.201896</td>\n",
              "      <td>-0.595051</td>\n",
              "      <td>0.659421</td>\n",
              "    </tr>\n",
              "    <tr>\n",
              "      <th>1650</th>\n",
              "      <td>-0.882803</td>\n",
              "      <td>0.647945</td>\n",
              "      <td>0.177125</td>\n",
              "      <td>-0.190479</td>\n",
              "      <td>0.644579</td>\n",
              "      <td>0.208487</td>\n",
              "      <td>0.657135</td>\n",
              "      <td>0.227451</td>\n",
              "      <td>-0.701029</td>\n",
              "      <td>-0.00746989</td>\n",
              "    </tr>\n",
              "    <tr>\n",
              "      <th>68</th>\n",
              "      <td>NaN</td>\n",
              "      <td>0.831874</td>\n",
              "      <td>-0.113836</td>\n",
              "      <td>-0.190479</td>\n",
              "      <td>-0.475449</td>\n",
              "      <td>-1.90497</td>\n",
              "      <td>-0.991536</td>\n",
              "      <td>0.649424</td>\n",
              "      <td>-0.326514</td>\n",
              "      <td>-0.2205</td>\n",
              "    </tr>\n",
              "  </tbody>\n",
              "</table>\n",
              "</div>"
            ],
            "text/plain": [
              "     categorical_0 categorical_1 categorical_2 categorical_3 categorical_4  \\\n",
              "236       0.233017      0.266851      0.620411    -0.0917691     0.0238002   \n",
              "103      0.0419825     -0.133423     -0.152355      0.768532     -0.105238   \n",
              "502       0.335987      0.686906    0.00831367      0.780618      0.253249   \n",
              "870       0.251286     -0.221214      -0.21522     -0.528595     -0.320334   \n",
              "357      -0.105762     -0.108175       -0.2422      -1.08681    -0.0790136   \n",
              "1372      0.169969      0.366924      0.399639    -0.0954622     0.0220233   \n",
              "620       0.372039      0.110516     -0.259249    -0.0814691      0.294292   \n",
              "1147     -0.294882      0.477974      0.531971      0.210054     -0.171589   \n",
              "1650     -0.882803      0.647945      0.177125     -0.190479      0.644579   \n",
              "68             NaN      0.831874     -0.113836     -0.190479     -0.475449   \n",
              "\n",
              "     categorical_5 categorical_6 categorical_7 categorical_8 categorical_9  \n",
              "236       0.205387     -0.182844      0.209843     -0.201101       1.95302  \n",
              "103     -0.0010254    -0.0768051     -0.164632     -0.108223      -1.16817  \n",
              "502      -0.588782    -0.0104415     -0.139042      0.258339       2.08561  \n",
              "870       0.484078      0.593479      0.131563      0.152882     -0.333682  \n",
              "357      -0.367782      0.287205      0.542695      0.064133     -0.670692  \n",
              "1372     -0.588782     -0.529951      0.233605     -0.260713     -0.130225  \n",
              "620       0.705151      0.300228      0.227451      0.185972       1.53523  \n",
              "1147     -0.106227     0.0837924     -0.201896     -0.595051      0.659421  \n",
              "1650      0.208487      0.657135      0.227451     -0.701029   -0.00746989  \n",
              "68        -1.90497     -0.991536      0.649424     -0.326514       -0.2205  "
            ]
          },
          "metadata": {
            "tags": []
          },
          "execution_count": 24
        }
      ]
    },
    {
      "metadata": {
        "id": "nLgqJ2xo0uxQ",
        "colab_type": "text"
      },
      "cell_type": "markdown",
      "source": [
        "Like with normal target encoding, our transformed matrix is the same shape as the original:"
      ]
    },
    {
      "metadata": {
        "id": "UcVvL91V00HD",
        "colab_type": "code",
        "outputId": "ab915ce5-80a1-4cd0-f02a-c1c7cc4e7c97",
        "colab": {
          "base_uri": "https://localhost:8080/",
          "height": 51
        }
      },
      "cell_type": "code",
      "source": [
        "# Compare sizes\n",
        "print('Original size:', X_train.shape)\n",
        "print('Target encoded size:', X_target_encoded_cv.shape)"
      ],
      "execution_count": 25,
      "outputs": [
        {
          "output_type": "stream",
          "text": [
            "Original size: (1000, 10)\n",
            "Target encoded size: (1000, 10)\n"
          ],
          "name": "stdout"
        }
      ]
    },
    {
      "metadata": {
        "id": "uZrZLdx-Z81V",
        "colab_type": "text"
      },
      "cell_type": "markdown",
      "source": [
        "However, now we have more unique continuous values in each column than we did categories, because we've target-encoded the categories separately for each fold."
      ]
    },
    {
      "metadata": {
        "id": "vuqXaUqIaEXl",
        "colab_type": "code",
        "outputId": "8741cec2-1085-4326-cd56-52535473f6a0",
        "colab": {
          "base_uri": "https://localhost:8080/",
          "height": 442
        }
      },
      "cell_type": "code",
      "source": [
        "# Compare category counts\n",
        "print('Original:')\n",
        "print(X_train.nunique())\n",
        "print('\\nTarget encoded:')\n",
        "print(X_target_encoded_cv.nunique())"
      ],
      "execution_count": 26,
      "outputs": [
        {
          "output_type": "stream",
          "text": [
            "Original:\n",
            "categorical_0    84\n",
            "categorical_1    81\n",
            "categorical_2    85\n",
            "categorical_3    88\n",
            "categorical_4    84\n",
            "categorical_5    86\n",
            "categorical_6    88\n",
            "categorical_7    88\n",
            "categorical_8    90\n",
            "categorical_9    79\n",
            "dtype: int64\n",
            "\n",
            "Target encoded:\n",
            "categorical_0    214\n",
            "categorical_1    203\n",
            "categorical_2    201\n",
            "categorical_3    203\n",
            "categorical_4    208\n",
            "categorical_5    207\n",
            "categorical_6    207\n",
            "categorical_7    205\n",
            "categorical_8    213\n",
            "categorical_9    200\n",
            "dtype: int64\n"
          ],
          "name": "stdout"
        }
      ]
    },
    {
      "metadata": {
        "id": "I1dys8eHxYAq",
        "colab_type": "text"
      },
      "cell_type": "markdown",
      "source": [
        "TODO: then we can fit the same model as before, but w/ cross-fold target encoding..."
      ]
    },
    {
      "metadata": {
        "id": "lOn6xCnqxZ3T",
        "colab_type": "code",
        "outputId": "3ba31992-0012-4b74-d26d-6a5bc19cd9d7",
        "colab": {
          "base_uri": "https://localhost:8080/",
          "height": 34
        }
      },
      "cell_type": "code",
      "source": [
        "# Regression model\n",
        "model_te_cv = Pipeline([\n",
        "    ('encoder', TargetEncoderCV()),\n",
        "    ('scaler', StandardScaler()),\n",
        "    ('imputer', SimpleImputer(strategy='mean')),\n",
        "    ('regressor', BayesianRidge())\n",
        "])\n",
        "\n",
        "# Cross-validated MAE\n",
        "scores = cross_val_score(model_te_cv, X_train, y_train, \n",
        "                         cv=3, scoring=mae_scorer)\n",
        "print('Cross-validated MAE:', scores.mean(), '+/-', scores.std())"
      ],
      "execution_count": 27,
      "outputs": [
        {
          "output_type": "stream",
          "text": [
            "Cross-validated MAE: 0.8351049783190474 +/- 0.04365424683197591\n"
          ],
          "name": "stdout"
        }
      ]
    },
    {
      "metadata": {
        "id": "GCjhesDoxtfK",
        "colab_type": "text"
      },
      "cell_type": "markdown",
      "source": [
        "TODO: and now the validation performance is consistent with the cross-validated performance"
      ]
    },
    {
      "metadata": {
        "id": "uIj56K0Hx8A7",
        "colab_type": "code",
        "outputId": "f02c0bc7-5c0a-4b80-a5bc-5fa96d3e5dfe",
        "colab": {
          "base_uri": "https://localhost:8080/",
          "height": 34
        }
      },
      "cell_type": "code",
      "source": [
        "# MAE on test data\n",
        "model_te_cv.fit(X_train, y_train)\n",
        "y_pred = model_te_cv.predict(X_test)\n",
        "test_mae = mean_absolute_error(y_test, y_pred)\n",
        "print('Validation MAE:', test_mae)"
      ],
      "execution_count": 28,
      "outputs": [
        {
          "output_type": "stream",
          "text": [
            "Validation MAE: 0.8389909316238072\n"
          ],
          "name": "stdout"
        }
      ]
    },
    {
      "metadata": {
        "id": "WAyX99su6Ztp",
        "colab_type": "text"
      },
      "cell_type": "markdown",
      "source": [
        "## Leave-one-out Target Encoding\n",
        "\n",
        "We could also prevent the target data leakage by using a leave-one-out scheme.  With this method, we compute the per-category means as before, but we don't include the current sample in the computation.\n",
        "\n",
        "TODO: explain w/ diagrams"
      ]
    },
    {
      "metadata": {
        "id": "XXc0S-_m68qY",
        "colab_type": "code",
        "colab": {}
      },
      "cell_type": "code",
      "source": [
        "class TargetEncoderLOO(TargetEncoder):\n",
        "    \"\"\"Leave-one-out target encoder.\n",
        "    \"\"\"\n",
        "    \n",
        "    def __init__(self, n_splits=3, shuffle=True, cols=None):\n",
        "        \"\"\"Leave-one-out target encoding for categorical features.\n",
        "        \n",
        "        Parameters\n",
        "        ----------\n",
        "        cols : list of str\n",
        "            Columns to target encode.\n",
        "        \"\"\"\n",
        "        self.cols = cols\n",
        "        \n",
        "\n",
        "    def fit(self, X, y):\n",
        "        \"\"\"Fit leave-one-out target encoder to X and y\n",
        "        \n",
        "        Parameters\n",
        "        ----------\n",
        "        X : pandas DataFrame, shape [n_samples, n_columns]\n",
        "            DataFrame containing columns to target encode\n",
        "        y : pandas Series, shape = [n_samples]\n",
        "            Target values.\n",
        "            \n",
        "        Returns\n",
        "        -------\n",
        "        self : encoder\n",
        "            Returns self.\n",
        "        \"\"\"\n",
        "        \n",
        "        # Encode all categorical cols by default\n",
        "        if self.cols is None:\n",
        "            self.cols = [col for col in X if str(X[col].dtype)=='object']\n",
        "\n",
        "        # Check columns are in X\n",
        "        for col in self.cols:\n",
        "            if col not in X:\n",
        "                raise ValueError('Column \\''+col+'\\' not in X')\n",
        "\n",
        "        # Encode each element of each column\n",
        "        self.sum_count = dict() #dict for sum + counts for each column\n",
        "        for col in self.cols:\n",
        "            self.sum_count[col] = dict()\n",
        "            uniques = X[col].unique()\n",
        "            for unique in uniques:\n",
        "                ix = X[col]==unique\n",
        "                self.sum_count[col][unique] = (y[ix].sum(), ix.sum())\n",
        "            \n",
        "        # Return the fit object\n",
        "        return self\n",
        "\n",
        "    \n",
        "    def transform(self, X, y=None):\n",
        "        \"\"\"Perform the target encoding transformation.\n",
        "\n",
        "        Uses leave-one-out target encoding for the training fold, and\n",
        "        uses normal target encoding for the test fold.\n",
        "\n",
        "        Parameters\n",
        "        ----------\n",
        "        X : pandas DataFrame, shape [n_samples, n_columns]\n",
        "            DataFrame containing columns to encode\n",
        "\n",
        "        Returns\n",
        "        -------\n",
        "        pandas DataFrame\n",
        "            Input DataFrame with transformed columns\n",
        "        \"\"\"\n",
        "        \n",
        "        # Create output dataframe\n",
        "        Xo = X.copy()\n",
        "\n",
        "        # Use normal target encoding if this is test data\n",
        "        if y is None:\n",
        "            for col in self.sum_count:\n",
        "                vals = np.full(X.shape[0], np.nan)\n",
        "                for cat, sum_count in self.sum_count[col].items():\n",
        "                    vals[X[col]==cat] = sum_count[0]/sum_count[1]\n",
        "                Xo[col] = vals\n",
        "\n",
        "        # LOO target encode each column\n",
        "        else:\n",
        "            for col in self.sum_count:\n",
        "                vals = np.full(X.shape[0], np.nan)\n",
        "                for cat, sum_count in self.sum_count[col].items():\n",
        "                    ix = X[col]==cat\n",
        "                    vals[ix] = (sum_count[0]-y[ix])/(sum_count[1]-1)\n",
        "                Xo[col] = vals\n",
        "            \n",
        "        # Return encoded DataFrame\n",
        "        return Xo\n",
        "      \n",
        "            \n",
        "    def fit_transform(self, X, y=None):\n",
        "        \"\"\"Fit and transform the data via target encoding.\n",
        "        \n",
        "        Parameters\n",
        "        ----------\n",
        "        X : pandas DataFrame, shape [n_samples, n_columns]\n",
        "            DataFrame containing columns to encode\n",
        "        y : pandas Series, shape = [n_samples]\n",
        "            Target values (required!).\n",
        "\n",
        "        Returns\n",
        "        -------\n",
        "        pandas DataFrame\n",
        "            Input DataFrame with transformed columns\n",
        "        \"\"\"\n",
        "        return self.fit(X, y).transform(X, y)"
      ],
      "execution_count": 0,
      "outputs": []
    },
    {
      "metadata": {
        "id": "qJhMNfjbxs5u",
        "colab_type": "code",
        "outputId": "4635086b-9abe-453d-b9f6-6b58d3b2dd0f",
        "colab": {
          "base_uri": "https://localhost:8080/",
          "height": 379
        }
      },
      "cell_type": "code",
      "source": [
        "# Cross-fold Target encode the categorical data\n",
        "te = TargetEncoderLOO()\n",
        "X_target_encoded_loo = te.fit_transform(X_train, y_train)\n",
        "X_target_encoded_loo.sample(10)"
      ],
      "execution_count": 30,
      "outputs": [
        {
          "output_type": "execute_result",
          "data": {
            "text/html": [
              "<div>\n",
              "<style scoped>\n",
              "    .dataframe tbody tr th:only-of-type {\n",
              "        vertical-align: middle;\n",
              "    }\n",
              "\n",
              "    .dataframe tbody tr th {\n",
              "        vertical-align: top;\n",
              "    }\n",
              "\n",
              "    .dataframe thead th {\n",
              "        text-align: right;\n",
              "    }\n",
              "</style>\n",
              "<table border=\"1\" class=\"dataframe\">\n",
              "  <thead>\n",
              "    <tr style=\"text-align: right;\">\n",
              "      <th></th>\n",
              "      <th>categorical_0</th>\n",
              "      <th>categorical_1</th>\n",
              "      <th>categorical_2</th>\n",
              "      <th>categorical_3</th>\n",
              "      <th>categorical_4</th>\n",
              "      <th>categorical_5</th>\n",
              "      <th>categorical_6</th>\n",
              "      <th>categorical_7</th>\n",
              "      <th>categorical_8</th>\n",
              "      <th>categorical_9</th>\n",
              "    </tr>\n",
              "  </thead>\n",
              "  <tbody>\n",
              "    <tr>\n",
              "      <th>915</th>\n",
              "      <td>-0.012727</td>\n",
              "      <td>0.314121</td>\n",
              "      <td>-0.233903</td>\n",
              "      <td>0.175900</td>\n",
              "      <td>0.132491</td>\n",
              "      <td>-1.140074</td>\n",
              "      <td>0.069677</td>\n",
              "      <td>0.256593</td>\n",
              "      <td>-0.430652</td>\n",
              "      <td>-0.103827</td>\n",
              "    </tr>\n",
              "    <tr>\n",
              "      <th>1647</th>\n",
              "      <td>0.215025</td>\n",
              "      <td>0.394832</td>\n",
              "      <td>-0.449700</td>\n",
              "      <td>0.600029</td>\n",
              "      <td>-0.201291</td>\n",
              "      <td>0.260293</td>\n",
              "      <td>0.191454</td>\n",
              "      <td>-2.622372</td>\n",
              "      <td>0.165401</td>\n",
              "      <td>NaN</td>\n",
              "    </tr>\n",
              "    <tr>\n",
              "      <th>82</th>\n",
              "      <td>-0.025525</td>\n",
              "      <td>-0.097241</td>\n",
              "      <td>0.306800</td>\n",
              "      <td>0.302967</td>\n",
              "      <td>0.211843</td>\n",
              "      <td>-0.075201</td>\n",
              "      <td>0.487799</td>\n",
              "      <td>-0.062378</td>\n",
              "      <td>0.137296</td>\n",
              "      <td>-0.608199</td>\n",
              "    </tr>\n",
              "    <tr>\n",
              "      <th>328</th>\n",
              "      <td>-0.022190</td>\n",
              "      <td>0.183942</td>\n",
              "      <td>0.237844</td>\n",
              "      <td>-0.622328</td>\n",
              "      <td>-0.305189</td>\n",
              "      <td>0.444699</td>\n",
              "      <td>0.145842</td>\n",
              "      <td>0.451886</td>\n",
              "      <td>0.397333</td>\n",
              "      <td>0.897512</td>\n",
              "    </tr>\n",
              "    <tr>\n",
              "      <th>369</th>\n",
              "      <td>0.612622</td>\n",
              "      <td>-0.219190</td>\n",
              "      <td>0.430788</td>\n",
              "      <td>0.595137</td>\n",
              "      <td>-0.299720</td>\n",
              "      <td>-0.210595</td>\n",
              "      <td>-0.073953</td>\n",
              "      <td>-0.153809</td>\n",
              "      <td>0.342509</td>\n",
              "      <td>0.827628</td>\n",
              "    </tr>\n",
              "    <tr>\n",
              "      <th>1488</th>\n",
              "      <td>0.158465</td>\n",
              "      <td>-0.104834</td>\n",
              "      <td>0.117011</td>\n",
              "      <td>1.055839</td>\n",
              "      <td>0.071813</td>\n",
              "      <td>-0.166491</td>\n",
              "      <td>-0.598097</td>\n",
              "      <td>0.394334</td>\n",
              "      <td>-0.909585</td>\n",
              "      <td>-0.650951</td>\n",
              "    </tr>\n",
              "    <tr>\n",
              "      <th>800</th>\n",
              "      <td>0.287101</td>\n",
              "      <td>-0.072489</td>\n",
              "      <td>0.402740</td>\n",
              "      <td>-0.044492</td>\n",
              "      <td>0.157021</td>\n",
              "      <td>0.542464</td>\n",
              "      <td>0.601372</td>\n",
              "      <td>0.215462</td>\n",
              "      <td>0.184972</td>\n",
              "      <td>-2.275490</td>\n",
              "    </tr>\n",
              "    <tr>\n",
              "      <th>735</th>\n",
              "      <td>0.050074</td>\n",
              "      <td>0.252479</td>\n",
              "      <td>-0.164370</td>\n",
              "      <td>-0.143356</td>\n",
              "      <td>0.126941</td>\n",
              "      <td>0.417575</td>\n",
              "      <td>0.044603</td>\n",
              "      <td>-0.167643</td>\n",
              "      <td>NaN</td>\n",
              "      <td>-0.427960</td>\n",
              "    </tr>\n",
              "    <tr>\n",
              "      <th>1361</th>\n",
              "      <td>0.572234</td>\n",
              "      <td>0.578534</td>\n",
              "      <td>-0.286133</td>\n",
              "      <td>0.142657</td>\n",
              "      <td>-0.537536</td>\n",
              "      <td>-0.144131</td>\n",
              "      <td>1.009878</td>\n",
              "      <td>0.019303</td>\n",
              "      <td>-0.524030</td>\n",
              "      <td>0.880222</td>\n",
              "    </tr>\n",
              "    <tr>\n",
              "      <th>1355</th>\n",
              "      <td>-0.188658</td>\n",
              "      <td>-0.107702</td>\n",
              "      <td>0.052277</td>\n",
              "      <td>-0.121903</td>\n",
              "      <td>0.130991</td>\n",
              "      <td>-0.264774</td>\n",
              "      <td>0.082149</td>\n",
              "      <td>0.031939</td>\n",
              "      <td>0.136631</td>\n",
              "      <td>0.335117</td>\n",
              "    </tr>\n",
              "  </tbody>\n",
              "</table>\n",
              "</div>"
            ],
            "text/plain": [
              "      categorical_0  categorical_1  categorical_2  categorical_3  \\\n",
              "915       -0.012727       0.314121      -0.233903       0.175900   \n",
              "1647       0.215025       0.394832      -0.449700       0.600029   \n",
              "82        -0.025525      -0.097241       0.306800       0.302967   \n",
              "328       -0.022190       0.183942       0.237844      -0.622328   \n",
              "369        0.612622      -0.219190       0.430788       0.595137   \n",
              "1488       0.158465      -0.104834       0.117011       1.055839   \n",
              "800        0.287101      -0.072489       0.402740      -0.044492   \n",
              "735        0.050074       0.252479      -0.164370      -0.143356   \n",
              "1361       0.572234       0.578534      -0.286133       0.142657   \n",
              "1355      -0.188658      -0.107702       0.052277      -0.121903   \n",
              "\n",
              "      categorical_4  categorical_5  categorical_6  categorical_7  \\\n",
              "915        0.132491      -1.140074       0.069677       0.256593   \n",
              "1647      -0.201291       0.260293       0.191454      -2.622372   \n",
              "82         0.211843      -0.075201       0.487799      -0.062378   \n",
              "328       -0.305189       0.444699       0.145842       0.451886   \n",
              "369       -0.299720      -0.210595      -0.073953      -0.153809   \n",
              "1488       0.071813      -0.166491      -0.598097       0.394334   \n",
              "800        0.157021       0.542464       0.601372       0.215462   \n",
              "735        0.126941       0.417575       0.044603      -0.167643   \n",
              "1361      -0.537536      -0.144131       1.009878       0.019303   \n",
              "1355       0.130991      -0.264774       0.082149       0.031939   \n",
              "\n",
              "      categorical_8  categorical_9  \n",
              "915       -0.430652      -0.103827  \n",
              "1647       0.165401            NaN  \n",
              "82         0.137296      -0.608199  \n",
              "328        0.397333       0.897512  \n",
              "369        0.342509       0.827628  \n",
              "1488      -0.909585      -0.650951  \n",
              "800        0.184972      -2.275490  \n",
              "735             NaN      -0.427960  \n",
              "1361      -0.524030       0.880222  \n",
              "1355       0.136631       0.335117  "
            ]
          },
          "metadata": {
            "tags": []
          },
          "execution_count": 30
        }
      ]
    },
    {
      "metadata": {
        "id": "q7NxW09g1Lgr",
        "colab_type": "text"
      },
      "cell_type": "markdown",
      "source": [
        "The transformed matrix is stil the same size as the original:"
      ]
    },
    {
      "metadata": {
        "id": "wE690mm41Pfn",
        "colab_type": "code",
        "outputId": "078f1d66-479a-4229-dfe8-572585a0779e",
        "colab": {
          "base_uri": "https://localhost:8080/",
          "height": 51
        }
      },
      "cell_type": "code",
      "source": [
        "# Compare sizes\n",
        "print('Original size:', X_train.shape)\n",
        "print('Target encoded size:', X_target_encoded_loo.shape)"
      ],
      "execution_count": 31,
      "outputs": [
        {
          "output_type": "stream",
          "text": [
            "Original size: (1000, 10)\n",
            "Target encoded size: (1000, 10)\n"
          ],
          "name": "stdout"
        }
      ]
    },
    {
      "metadata": {
        "id": "hFg2GYU61cde",
        "colab_type": "text"
      },
      "cell_type": "markdown",
      "source": [
        "But now there are nearly as many unique values in each column as there are samples:"
      ]
    },
    {
      "metadata": {
        "id": "HEQPxiJK1QCU",
        "colab_type": "code",
        "outputId": "77edded5-50d4-449d-a9e4-756aee4ecc09",
        "colab": {
          "base_uri": "https://localhost:8080/",
          "height": 442
        }
      },
      "cell_type": "code",
      "source": [
        "# Compare category counts\n",
        "print('Original:')\n",
        "print(X_train.nunique())\n",
        "print('\\nLeave-one-out target encoded:')\n",
        "print(X_target_encoded_loo.nunique())"
      ],
      "execution_count": 32,
      "outputs": [
        {
          "output_type": "stream",
          "text": [
            "Original:\n",
            "categorical_0    84\n",
            "categorical_1    81\n",
            "categorical_2    85\n",
            "categorical_3    88\n",
            "categorical_4    84\n",
            "categorical_5    86\n",
            "categorical_6    88\n",
            "categorical_7    88\n",
            "categorical_8    90\n",
            "categorical_9    79\n",
            "dtype: int64\n",
            "\n",
            "Leave-one-out target encoded:\n",
            "categorical_0    993\n",
            "categorical_1    994\n",
            "categorical_2    992\n",
            "categorical_3    987\n",
            "categorical_4    990\n",
            "categorical_5    990\n",
            "categorical_6    990\n",
            "categorical_7    991\n",
            "categorical_8    992\n",
            "categorical_9    996\n",
            "dtype: int64\n"
          ],
          "name": "stdout"
        }
      ]
    },
    {
      "metadata": {
        "id": "x8E8OZ5y1oNy",
        "colab_type": "code",
        "outputId": "2d1778f9-88a0-42e5-e157-3530fb753995",
        "colab": {
          "base_uri": "https://localhost:8080/",
          "height": 34
        }
      },
      "cell_type": "code",
      "source": [
        "# Regression model\n",
        "model_te_loo = Pipeline([\n",
        "    ('encoder', TargetEncoderLOO()),\n",
        "    ('scaler', StandardScaler()),\n",
        "    ('imputer', SimpleImputer(strategy='mean')),\n",
        "    ('regressor', BayesianRidge())\n",
        "])\n",
        "\n",
        "# Cross-validated MAE\n",
        "scores = cross_val_score(model_te_loo, X_train, y_train, \n",
        "                         cv=3, scoring=mae_scorer)\n",
        "print('Cross-validated MAE:', scores.mean(), '+/-', scores.std())"
      ],
      "execution_count": 33,
      "outputs": [
        {
          "output_type": "stream",
          "text": [
            "Cross-validated MAE: 0.8329997501949703 +/- 0.037514587474735996\n"
          ],
          "name": "stdout"
        }
      ]
    },
    {
      "metadata": {
        "id": "aT3SSVXu1xkB",
        "colab_type": "code",
        "outputId": "faa111b1-efa9-42f6-fb1d-af5ba0f333a6",
        "colab": {
          "base_uri": "https://localhost:8080/",
          "height": 34
        }
      },
      "cell_type": "code",
      "source": [
        "# MAE on test data\n",
        "model_te_loo.fit(X_train, y_train)\n",
        "y_pred = model_te_loo.predict(X_test)\n",
        "test_mae = mean_absolute_error(y_test, y_pred)\n",
        "print('Validation MAE:', test_mae)"
      ],
      "execution_count": 34,
      "outputs": [
        {
          "output_type": "stream",
          "text": [
            "Validation MAE: 0.837977841124484\n"
          ],
          "name": "stdout"
        }
      ]
    },
    {
      "metadata": {
        "id": "8Mm-T-4_2yvx",
        "colab_type": "text"
      },
      "cell_type": "markdown",
      "source": [
        "The leave-one-out target encoder performs *slightly* better than the cross-fold target encoder, because we've given it more samples with which to compute the per-category means ($N-1$, instead of $N-N/K$, where K is the number of folds).  While the increase in performance was very small, the leave-one-out target encoder is faster, due to the effecient way we computed the leave-one-out means (instead of having to compute means for each fold)."
      ]
    },
    {
      "metadata": {
        "id": "HooowJsY2uLm",
        "colab_type": "code",
        "outputId": "b0a3c1bb-e127-4125-e6e5-49ace3766835",
        "colab": {
          "base_uri": "https://localhost:8080/",
          "height": 51
        }
      },
      "cell_type": "code",
      "source": [
        "%%time\n",
        "Xo = TargetEncoderCV().fit_transform(X_train, y_train)"
      ],
      "execution_count": 35,
      "outputs": [
        {
          "output_type": "stream",
          "text": [
            "CPU times: user 6.81 s, sys: 105 ms, total: 6.92 s\n",
            "Wall time: 6.83 s\n"
          ],
          "name": "stdout"
        }
      ]
    },
    {
      "metadata": {
        "id": "lOW06X6L2c5M",
        "colab_type": "code",
        "outputId": "053fd6f1-d6c5-454f-f370-0bd655bc85e3",
        "colab": {
          "base_uri": "https://localhost:8080/",
          "height": 51
        }
      },
      "cell_type": "code",
      "source": [
        "%%time\n",
        "Xo = TargetEncoderLOO().fit_transform(X_train, y_train)"
      ],
      "execution_count": 36,
      "outputs": [
        {
          "output_type": "stream",
          "text": [
            "CPU times: user 4.23 s, sys: 17.1 ms, total: 4.25 s\n",
            "Wall time: 4.25 s\n"
          ],
          "name": "stdout"
        }
      ]
    },
    {
      "metadata": {
        "id": "_zSd5DXn16YA",
        "colab_type": "text"
      },
      "cell_type": "markdown",
      "source": [
        "## Effect of the Learning Algorithm\n",
        "\n",
        "The increase in predictive performance one gets from target encoding depends on the machine learning algorithm which is using it.  As we've seen, target encoding is great for linear models (throughout this post we were using a Bayesian ridge regression, a variant on a linear regression which optimizes the regularization parameter).  However, target encoding doesn't help as much for tree-based boosting algorithms like XGBoost, CatBoost, or LightGBM, which tend to handle categorical data pretty well as-is.\n",
        "\n",
        "Fitting the Bayesian ridge regression to the data, we see a huge increase in performance after target encoding (relative to one-hot encoding)."
      ]
    },
    {
      "metadata": {
        "id": "gkUC7smw7HKF",
        "colab_type": "code",
        "outputId": "38d3a02b-930a-4af0-b797-c4238e0a1de7",
        "colab": {
          "base_uri": "https://localhost:8080/",
          "height": 34
        }
      },
      "cell_type": "code",
      "source": [
        "# Bayesian ridge w/ one-hot encoding\n",
        "model_brr = Pipeline([\n",
        "    ('encoder', OneHotEncoder()),\n",
        "    ('scaler', StandardScaler()),\n",
        "    ('imputer', SimpleImputer(strategy='mean')),\n",
        "    ('regressor', BayesianRidge())\n",
        "])\n",
        "\n",
        "# Cross-validated MAE\n",
        "scores = cross_val_score(model_brr, X_train, y_train, \n",
        "                         cv=3, scoring=mae_scorer)\n",
        "print('MAE w/ Bayesian Ridge + one-hot encoding: %0.3f +/- %0.3f' \n",
        "      % (scores.mean(), scores.std()))"
      ],
      "execution_count": 37,
      "outputs": [
        {
          "output_type": "stream",
          "text": [
            "MAE w/ Bayesian Ridge + one-hot encoding: 1.039 +/- 0.028\n"
          ],
          "name": "stdout"
        }
      ]
    },
    {
      "metadata": {
        "id": "vF8xDxC37d19",
        "colab_type": "code",
        "outputId": "d39d930c-524e-4a41-e347-fa4d3bea41b0",
        "colab": {
          "base_uri": "https://localhost:8080/",
          "height": 34
        }
      },
      "cell_type": "code",
      "source": [
        "# Bayesian ridge w/ target-encoding\n",
        "model_brr = Pipeline([\n",
        "    ('encoder', TargetEncoderLOO()),\n",
        "    ('scaler', StandardScaler()),\n",
        "    ('imputer', SimpleImputer(strategy='mean')),\n",
        "    ('regressor', BayesianRidge())\n",
        "])\n",
        "\n",
        "# Cross-validated MAE\n",
        "scores = cross_val_score(model_brr, X_train, y_train, \n",
        "                         cv=3, scoring=mae_scorer)\n",
        "print('MAE w/ Bayesian Ridge + target encoding: %0.3f +/- %0.3f' \n",
        "      % (scores.mean(), scores.std()))"
      ],
      "execution_count": 38,
      "outputs": [
        {
          "output_type": "stream",
          "text": [
            "MAE w/ Bayesian Ridge + target encoding: 0.833 +/- 0.038\n"
          ],
          "name": "stdout"
        }
      ]
    },
    {
      "metadata": {
        "id": "d9LXpbu06JKV",
        "colab_type": "text"
      },
      "cell_type": "markdown",
      "source": [
        "However, using XGBoost, there is only a modest perfomance increase (if any at all)."
      ]
    },
    {
      "metadata": {
        "id": "13JgB55a6Bgh",
        "colab_type": "code",
        "outputId": "db6759db-e710-4820-c2e6-aaf2c1c60b0d",
        "colab": {
          "base_uri": "https://localhost:8080/",
          "height": 34
        }
      },
      "cell_type": "code",
      "source": [
        "# Regression model\n",
        "model_xgb = Pipeline([\n",
        "    ('encoder', OneHotEncoder()),\n",
        "    ('scaler', StandardScaler()),\n",
        "    ('imputer', SimpleImputer(strategy='mean')),\n",
        "    ('regressor', XGBRegressor())\n",
        "])\n",
        "\n",
        "# Cross-validated MAE\n",
        "scores = cross_val_score(model_xgb, X_train, y_train, \n",
        "                         cv=3, scoring=mae_scorer)\n",
        "print('MAE w/ XGBoost + one-hot encoding: %0.3f +/- %0.3f'\n",
        "      % (scores.mean(), scores.std()))"
      ],
      "execution_count": 39,
      "outputs": [
        {
          "output_type": "stream",
          "text": [
            "MAE w/ XGBoost + one-hot encoding: 0.869 +/- 0.040\n"
          ],
          "name": "stdout"
        }
      ]
    },
    {
      "metadata": {
        "id": "8ctGdYDM6a_i",
        "colab_type": "code",
        "outputId": "cae1dc4a-4314-4ef3-b8a9-f39ce771940f",
        "colab": {
          "base_uri": "https://localhost:8080/",
          "height": 34
        }
      },
      "cell_type": "code",
      "source": [
        "# Regression model\n",
        "model_xgb = Pipeline([\n",
        "    ('encoder', TargetEncoderLOO()),\n",
        "    ('scaler', StandardScaler()),\n",
        "    ('imputer', SimpleImputer(strategy='mean')),\n",
        "    ('regressor', XGBRegressor())\n",
        "])\n",
        "\n",
        "# Cross-validated MAE\n",
        "scores = cross_val_score(model_xgb, X_train, y_train, \n",
        "                         cv=3, scoring=mae_scorer)\n",
        "print('MAE w/ XGBoost + target encoding: %0.3f +/- %0.3f'\n",
        "      % (scores.mean(), scores.std()))"
      ],
      "execution_count": 40,
      "outputs": [
        {
          "output_type": "stream",
          "text": [
            "MAE w/ XGBoost + target encoding: 0.864 +/- 0.052\n"
          ],
          "name": "stdout"
        }
      ]
    },
    {
      "metadata": {
        "id": "hNryKyVCM0cr",
        "colab_type": "text"
      },
      "cell_type": "markdown",
      "source": [
        "## Dependence on the Number of Categories\n",
        "\n",
        "There is also an effect of the number of categories on the performance of a model trained on target-encoded data.  Target encoding works well with categorical data that contains a large number of categories.  However, if you have data with only a few categories, you're probably better off using one-hot encoding.\n",
        "\n",
        "For example, let's generate two datasets: one which has a large number of categories in each column, and another which has only a few categories in each column."
      ]
    },
    {
      "metadata": {
        "id": "nACpTFNGM-57",
        "colab_type": "code",
        "outputId": "ffca87e7-7070-44ec-eb51-323ae7bea9d4",
        "colab": {
          "base_uri": "https://localhost:8080/",
          "height": 71
        }
      },
      "cell_type": "code",
      "source": [
        "# Categorical data w/ many categories\n",
        "X_many, y_many = make_categorical_regression(\n",
        "    n_samples=1000, \n",
        "    n_features=10, \n",
        "    n_categories=100,\n",
        "    n_informative=1,\n",
        "    imbalance=2.0)\n",
        "\n",
        "# Categorical data w/ few categories\n",
        "X_few, y_few = make_categorical_regression(\n",
        "    n_samples=1000, \n",
        "    n_features=10, \n",
        "    n_categories=5,\n",
        "    n_informative=1,\n",
        "    imbalance=2.0)"
      ],
      "execution_count": 41,
      "outputs": [
        {
          "output_type": "stream",
          "text": [
            "/usr/local/lib/python3.6/dist-packages/ipykernel_launcher.py:72: DeprecationWarning: `comb` is deprecated!\n",
            "Importing `comb` from scipy.misc is deprecated in scipy 1.0.0. Use `scipy.special.comb` instead.\n"
          ],
          "name": "stderr"
        }
      ]
    },
    {
      "metadata": {
        "id": "KhbbmE3YBAF7",
        "colab_type": "text"
      },
      "cell_type": "markdown",
      "source": [
        "Then we'll construct two separate models: one which uses target-encoding, and another which uses one-hot encoding."
      ]
    },
    {
      "metadata": {
        "id": "jOUh-ko1-v24",
        "colab_type": "code",
        "colab": {}
      },
      "cell_type": "code",
      "source": [
        "# Regression model w/ target encoding\n",
        "model_te = Pipeline([\n",
        "    ('encoder', TargetEncoderLOO()),\n",
        "    ('scaler', StandardScaler()),\n",
        "    ('imputer', SimpleImputer(strategy='mean')),\n",
        "    ('regressor', BayesianRidge())\n",
        "])\n",
        "\n",
        "# Regression model w/ one-hot encoding\n",
        "model_oh = Pipeline([\n",
        "    ('encoder', OneHotEncoder()),\n",
        "    ('scaler', StandardScaler()),\n",
        "    ('imputer', SimpleImputer(strategy='mean')),\n",
        "    ('regressor', BayesianRidge())\n",
        "])"
      ],
      "execution_count": 0,
      "outputs": []
    },
    {
      "metadata": {
        "id": "qU22JGVLBGxE",
        "colab_type": "text"
      },
      "cell_type": "markdown",
      "source": [
        "On the dataset with many categories per column, target-encoding outperforms one-hot encoding by a good margin."
      ]
    },
    {
      "metadata": {
        "id": "edYl61Ji-ZuD",
        "colab_type": "code",
        "outputId": "723b49da-3f5c-4f23-a5f1-eafdd6ea065f",
        "colab": {
          "base_uri": "https://localhost:8080/",
          "height": 68
        }
      },
      "cell_type": "code",
      "source": [
        "print('Many categories:')\n",
        "\n",
        "# Target encoding w/ many categories\n",
        "scores = cross_val_score(model_te, X_many, y_many, \n",
        "                         cv=3, scoring=mae_scorer)\n",
        "print('MAE w/ target encoding: %0.3f +/- %0.3f' \n",
        "      % (scores.mean(), scores.std()))\n",
        "\n",
        "# One-hot encoding w/ many categories\n",
        "scores = cross_val_score(model_oh, X_many, y_many, \n",
        "                         cv=3, scoring=mae_scorer)\n",
        "print('MAE w/ one-hot encoding: %0.3f +/- %0.3f' \n",
        "      % (scores.mean(), scores.std()))"
      ],
      "execution_count": 43,
      "outputs": [
        {
          "output_type": "stream",
          "text": [
            "Many categories:\n",
            "MAE w/ target encoding: 0.820 +/- 0.029\n",
            "MAE w/ one-hot encoding: 1.049 +/- 0.045\n"
          ],
          "name": "stdout"
        }
      ]
    },
    {
      "metadata": {
        "id": "i5LoSWmoBO-D",
        "colab_type": "text"
      },
      "cell_type": "markdown",
      "source": [
        "On the other hand, with the dataset containing only a few categories per column, the performance of the one-hot encoded model is nearly indistinguishable from the performance of the model which uses target encoding."
      ]
    },
    {
      "metadata": {
        "id": "09nZjFL9_4zk",
        "colab_type": "code",
        "outputId": "1463d14d-c649-44cd-a162-03a61e4f6966",
        "colab": {
          "base_uri": "https://localhost:8080/",
          "height": 68
        }
      },
      "cell_type": "code",
      "source": [
        "print('Few categories:')\n",
        "\n",
        "# Target encoding w/ few categories\n",
        "scores = cross_val_score(model_te, X_few, y_few, \n",
        "                         cv=3, scoring=mae_scorer)\n",
        "print('MAE w/ target encoding: %0.3f +/- %0.3f' \n",
        "      % (scores.mean(), scores.std()))\n",
        "\n",
        "# One-hot encoding w/ few categories\n",
        "scores = cross_val_score(model_oh, X_few, y_few, \n",
        "                         cv=3, scoring=mae_scorer)\n",
        "print('MAE w/ one-hot encoding: %0.3f +/- %0.3f' \n",
        "      % (scores.mean(), scores.std()))"
      ],
      "execution_count": 44,
      "outputs": [
        {
          "output_type": "stream",
          "text": [
            "Few categories:\n",
            "MAE w/ target encoding: 0.815 +/- 0.030\n",
            "MAE w/ one-hot encoding: 0.830 +/- 0.025\n"
          ],
          "name": "stdout"
        }
      ]
    },
    {
      "metadata": {
        "id": "zroBmNwL08_u",
        "colab_type": "text"
      },
      "cell_type": "markdown",
      "source": [
        "## Effect of Category Imbalance\n",
        "\n",
        "I would have expected target encoding to perform better than one-hot encoding when the categories were extremely unbalanced (most samples have one of only a few categories), and one-hot encoding to outperform target encoding in the case of balanced categories (categories appear about the same number of times thoughout the dataset).  However, it appears that category imbalance effects both one-hot and target encoding similarly.  \n",
        "\n",
        "Let's generate two datasets, one of which has balanced categories, and another which has highly imbalanced categories in each column."
      ]
    },
    {
      "metadata": {
        "id": "qecVxs9g1Hdd",
        "colab_type": "code",
        "outputId": "e473af13-b058-4579-a973-6bb1644e34d3",
        "colab": {
          "base_uri": "https://localhost:8080/",
          "height": 71
        }
      },
      "cell_type": "code",
      "source": [
        "# Categorical data w/ many categories\n",
        "X_bal, y_bal = make_categorical_regression(\n",
        "    n_samples=1000, \n",
        "    n_features=10, \n",
        "    n_categories=100,\n",
        "    n_informative=1,\n",
        "    imbalance=0.0)\n",
        "\n",
        "# Categorical data w/ few categories\n",
        "X_imbal, y_imbal = make_categorical_regression(\n",
        "    n_samples=1000, \n",
        "    n_features=10, \n",
        "    n_categories=100,\n",
        "    n_informative=1,\n",
        "    imbalance=2.0)"
      ],
      "execution_count": 45,
      "outputs": [
        {
          "output_type": "stream",
          "text": [
            "/usr/local/lib/python3.6/dist-packages/ipykernel_launcher.py:72: DeprecationWarning: `comb` is deprecated!\n",
            "Importing `comb` from scipy.misc is deprecated in scipy 1.0.0. Use `scipy.special.comb` instead.\n"
          ],
          "name": "stderr"
        }
      ]
    },
    {
      "metadata": {
        "id": "Wdz8rzMYB3-y",
        "colab_type": "text"
      },
      "cell_type": "markdown",
      "source": [
        "Fitting the models from the previous section (one of which uses target encoding and the other uses one-hot encoding), we see that how imbalanced the data is doesn't have a huge effect on the perfomance of the model which uses target encoding."
      ]
    },
    {
      "metadata": {
        "id": "RZFLc7KcByWC",
        "colab_type": "code",
        "outputId": "c204e050-63cf-481a-d5b9-43c9e0e6c535",
        "colab": {
          "base_uri": "https://localhost:8080/",
          "height": 68
        }
      },
      "cell_type": "code",
      "source": [
        "print('Target encoding:')\n",
        "\n",
        "# Target encoding w/ imbalanced categories\n",
        "scores = cross_val_score(model_te, X_imbal, y_imbal, \n",
        "                         cv=5, scoring=mae_scorer)\n",
        "print('MAE w/ imbalanced categories: %0.3f +/- %0.3f' \n",
        "      % (scores.mean(), scores.std()))\n",
        "\n",
        "# Target encoding w/ balanced categories\n",
        "scores = cross_val_score(model_te, X_bal, y_bal, \n",
        "                         cv=5, scoring=mae_scorer)\n",
        "print('MAE w/ balanced categories: %0.3f +/- %0.3f' \n",
        "      % (scores.mean(), scores.std()))"
      ],
      "execution_count": 46,
      "outputs": [
        {
          "output_type": "stream",
          "text": [
            "Target encoding:\n",
            "MAE w/ imbalanced categories: 0.873 +/- 0.054\n",
            "MAE w/ balanced categories: 0.845 +/- 0.041\n"
          ],
          "name": "stdout"
        }
      ]
    },
    {
      "metadata": {
        "id": "l8qJyF0MJ8Lu",
        "colab_type": "text"
      },
      "cell_type": "markdown",
      "source": [
        "Nor does it appear to have a big effect on the performance of the model which uses one-hot encoding."
      ]
    },
    {
      "metadata": {
        "id": "v5y06BmOCCEn",
        "colab_type": "code",
        "outputId": "02b48230-828d-4be8-c544-c96aa4e92060",
        "colab": {
          "base_uri": "https://localhost:8080/",
          "height": 68
        }
      },
      "cell_type": "code",
      "source": [
        "print('One-hot encoding:')\n",
        "\n",
        "# One-hot encoding w/ imbalanced categories\n",
        "scores = cross_val_score(model_oh, X_imbal, y_imbal, \n",
        "                         cv=5, scoring=mae_scorer)\n",
        "print('MAE w/ imbalanced categories: %0.3f +/- %0.3f' \n",
        "      % (scores.mean(), scores.std()))\n",
        "\n",
        "# One-hot encoding w/ balanced categories\n",
        "scores = cross_val_score(model_oh, X_bal, y_bal, \n",
        "                         cv=5, scoring=mae_scorer)\n",
        "print('MAE w/ balanced categories: %0.3f +/- %0.3f'\n",
        "      % (scores.mean(), scores.std()))"
      ],
      "execution_count": 47,
      "outputs": [
        {
          "output_type": "stream",
          "text": [
            "One-hot encoding:\n",
            "MAE w/ imbalanced categories: 1.030 +/- 0.024\n",
            "MAE w/ balanced categories: 0.993 +/- 0.029\n"
          ],
          "name": "stdout"
        }
      ]
    },
    {
      "metadata": {
        "id": "D47THvEXKWWg",
        "colab_type": "text"
      },
      "cell_type": "markdown",
      "source": [
        "I've tried various combinations of predictive models, levels of imbalance, and numbers of categories, and the level of imbalance doesn't seem to have a very systematic effect.  I suspect this is because for both target encoding and one-hot encoding, with balanced categories we have more information about all categories on average (because examples with each category are more evenly distributed).  On the other hand, we have *less* information about the most common categories - because those categories are no more \"common\" than any other in a balanced dataset.  Therefore, the level of uncertainty for those categories ends up actually being higher for balanced datasets.  Those two effects appear to cancel out, and the predictive performance of our models don't change."
      ]
    },
    {
      "metadata": {
        "id": "pXAZQCjmNiYz",
        "colab_type": "text"
      },
      "cell_type": "markdown",
      "source": [
        "## Effect of Interactions\n",
        "\n",
        "So far, target encoding has performed as well or better than other types of encoding.  However, there's one situation where target encoding doesn't do so well: in the face of strong interaction effects.\n",
        "\n",
        "An interaction effect is when the effect of one feature on the target variable depends on the value of a second feature.  For example, suppose we have one categorical feature with categories A and B, and a second categorical feature with categories C and D.  With no interaction effect, the effect of the first and second feature would be additive, and the effect of A and B on the target variable is independent of C and D.  An example of this is the money spent as a function of items purchased.  If a customer purchases both items 1 and 2, they will be charged the same as if they had purchased either item independently:"
      ]
    },
    {
      "metadata": {
        "id": "7lJbCN55mzSp",
        "colab_type": "code",
        "colab": {
          "base_uri": "https://localhost:8080/",
          "height": 432
        },
        "outputId": "3cd9297b-f9ed-4466-af00-28e3498b14f6"
      },
      "cell_type": "code",
      "source": [
        "plt.bar(np.arange(4), [0, 2, 3, 5])\n",
        "plt.ylabel('Cost')\n",
        "plt.xticks(np.arange(4), \n",
        "           ['No purchases', \n",
        "            'Purchased only item 1', \n",
        "            'Purchased only item 2', \n",
        "            'Purchased both 1 + 2'])"
      ],
      "execution_count": 68,
      "outputs": [
        {
          "output_type": "execute_result",
          "data": {
            "text/plain": [
              "([<matplotlib.axis.XTick at 0x7f7ab683cc88>,\n",
              "  <matplotlib.axis.XTick at 0x7f7ab683c208>,\n",
              "  <matplotlib.axis.XTick at 0x7f7ab683c7f0>,\n",
              "  <matplotlib.axis.XTick at 0x7f7ab687fac8>],\n",
              " <a list of 4 Text xticklabel objects>)"
            ]
          },
          "metadata": {
            "tags": []
          },
          "execution_count": 68
        },
        {
          "output_type": "display_data",
          "data": {
            "image/png": "[encoded data removed]",
            "text/plain": [
              "<Figure size 576x396 with 1 Axes>"
            ]
          },
          "metadata": {
            "tags": []
          }
        }
      ]
    },
    {
      "metadata": {
        "id": "1rTCYLQeo1Tf",
        "colab_type": "text"
      },
      "cell_type": "markdown",
      "source": [
        "On the other hand, if there is an interaction effect, the effect on the target variable will not be simply the sum of the two features' effects.  For example, just adding sugar *or* stirring coffee may not have a huge effect on the sweetness of the coffee.  But if one adds sugar *and* stirs, there is a large effect on the sweetness of the coffee."
      ]
    },
    {
      "metadata": {
        "id": "4F2kN9GAo1p_",
        "colab_type": "code",
        "colab": {
          "base_uri": "https://localhost:8080/",
          "height": 432
        },
        "outputId": "08c95b9b-1365-45fe-fcda-59d7522c47c3"
      },
      "cell_type": "code",
      "source": [
        "plt.bar(np.arange(4), [1, 1, 3, 10])\n",
        "plt.ylabel('Coffee sweetness')\n",
        "plt.xticks(np.arange(4), \n",
        "           ['Nothing', \n",
        "            'Stir', \n",
        "            'Sugar', \n",
        "            'Sugar + stir'])"
      ],
      "execution_count": 70,
      "outputs": [
        {
          "output_type": "execute_result",
          "data": {
            "text/plain": [
              "([<matplotlib.axis.XTick at 0x7f7ab6651400>,\n",
              "  <matplotlib.axis.XTick at 0x7f7ab664b1d0>,\n",
              "  <matplotlib.axis.XTick at 0x7f7ab664bf98>,\n",
              "  <matplotlib.axis.XTick at 0x7f7ab6607400>],\n",
              " <a list of 4 Text xticklabel objects>)"
            ]
          },
          "metadata": {
            "tags": []
          },
          "execution_count": 70
        },
        {
          "output_type": "display_data",
          "data": {
            "image/png": "[encoded data removed]",
            "text/plain": [
              "<Figure size 576x396 with 1 Axes>"
            ]
          },
          "metadata": {
            "tags": []
          }
        }
      ]
    },
    {
      "metadata": {
        "id": "O-VU_B5KmztO",
        "colab_type": "text"
      },
      "cell_type": "markdown",
      "source": [
        "\n",
        "Target encoding simply fills in each category with the mean target value for samples having that category.  Because target encoding does this for each column individually, it's fundamentally unable to  handle interactions between columns!  That said, one-hot encoding doesn't intrinsically handle interaction effects either - it depends on the learning algorithm being used.  Linear models (like the Bayesian ridge regression we've been using) can't pull out interaction effects unless we explicitly encode them (by adding a column for each possible interaction).  Nonlinear learning algorithms, such as decision tree-based models, SVMs, and neural networks, are able to detect interaction effects in the data as-is.\n",
        "\n",
        "To see how well interaction effects are captured by models trained on target-encoded or one-hot-encoded data, we'll create two categorical datasets: one which has no interaction effects, and one whose variance is completely explained by interaction effects (and noise)."
      ]
    },
    {
      "metadata": {
        "id": "a-pdSDv8cvZH",
        "colab_type": "code",
        "outputId": "9ca57068-aca3-48f7-c543-e2f1167661b2",
        "colab": {
          "base_uri": "https://localhost:8080/",
          "height": 71
        }
      },
      "cell_type": "code",
      "source": [
        "# Categorical data w/ no interaction effects\n",
        "X_no_int, y_no_int = make_categorical_regression(\n",
        "    n_samples=1000, \n",
        "    n_features=10,\n",
        "    n_categories=100,\n",
        "    n_informative=2,\n",
        "    interactions=0.0)\n",
        "\n",
        "# Categorical data w/ interaction effects\n",
        "X_inter, y_inter = make_categorical_regression(\n",
        "    n_samples=1000, \n",
        "    n_features=10,\n",
        "    n_categories=100,\n",
        "    n_informative=2,\n",
        "    interactions=1.0)"
      ],
      "execution_count": 56,
      "outputs": [
        {
          "output_type": "stream",
          "text": [
            "/usr/local/lib/python3.6/dist-packages/ipykernel_launcher.py:72: DeprecationWarning: `comb` is deprecated!\n",
            "Importing `comb` from scipy.misc is deprecated in scipy 1.0.0. Use `scipy.special.comb` instead.\n"
          ],
          "name": "stderr"
        }
      ]
    },
    {
      "metadata": {
        "id": "pKtHi2XtauM-",
        "colab_type": "text"
      },
      "cell_type": "markdown",
      "source": [
        "To capture interaction effects, we'll have to use a model which can handle interactions, such as a tree-based method like XGBoost (a linear regression can't capture interactions unless they are explicitly encoded)."
      ]
    },
    {
      "metadata": {
        "id": "gOVZx7a6ZHr4",
        "colab_type": "code",
        "colab": {}
      },
      "cell_type": "code",
      "source": [
        "# Regression model w/ target encoding\n",
        "model_te = Pipeline([\n",
        "    ('encoder', TargetEncoderLOO()),\n",
        "    ('scaler', StandardScaler()),\n",
        "    ('imputer', SimpleImputer(strategy='mean')),\n",
        "    ('regressor', XGBRegressor())\n",
        "])\n",
        "\n",
        "# Regression model w/ one-hot encoding\n",
        "model_oh = Pipeline([\n",
        "    ('encoder', OneHotEncoder()),\n",
        "    ('scaler', StandardScaler()),\n",
        "    ('imputer', SimpleImputer(strategy='mean')),\n",
        "    ('regressor', XGBRegressor())\n",
        "])"
      ],
      "execution_count": 0,
      "outputs": []
    },
    {
      "metadata": {
        "id": "lM4UpnRYbf6k",
        "colab_type": "text"
      },
      "cell_type": "markdown",
      "source": [
        "As we've seen before, without interaction effects the target encoder performs better than the one-hot encoder."
      ]
    },
    {
      "metadata": {
        "id": "xIRPGKxrRsRd",
        "colab_type": "code",
        "outputId": "d302db4e-9d58-48fe-9d99-1576baf45cd0",
        "colab": {
          "base_uri": "https://localhost:8080/",
          "height": 68
        }
      },
      "cell_type": "code",
      "source": [
        "print('No interaction effects:')\n",
        "\n",
        "# Target encoding w/ no interaction effects\n",
        "scores = cross_val_score(model_te, X_no_int, y_no_int, \n",
        "                         cv=5, scoring=mae_scorer)\n",
        "print('MAE w/ target encoding: %0.3f +/- %0.3f'\n",
        "      % (scores.mean(), scores.std()))\n",
        "\n",
        "# One-hot encoding w/ no interaction effects\n",
        "scores = cross_val_score(model_oh, X_no_int, y_no_int, \n",
        "                         cv=5, scoring=mae_scorer)\n",
        "print('MAE w/ one-hot encoding: %0.3f +/- %0.3f' \n",
        "      % (scores.mean(), scores.std()))"
      ],
      "execution_count": 61,
      "outputs": [
        {
          "output_type": "stream",
          "text": [
            "No interaction effects:\n",
            "MAE w/ target encoding: 0.981 +/- 0.058\n",
            "MAE w/ one-hot encoding: 1.119 +/- 0.065\n"
          ],
          "name": "stdout"
        }
      ]
    },
    {
      "metadata": {
        "id": "ty4CRP4OboGH",
        "colab_type": "text"
      },
      "cell_type": "markdown",
      "source": [
        "However, when most of the variance can be explained by interaction effects, the model trained on one-hot encoded data performs better (or at least it's unlikely that the target-encoded model has better performance)."
      ]
    },
    {
      "metadata": {
        "id": "XxtgEG9SSBif",
        "colab_type": "code",
        "outputId": "1f54aad6-8331-4ba0-a86e-f79ee2a2a0e5",
        "colab": {
          "base_uri": "https://localhost:8080/",
          "height": 68
        }
      },
      "cell_type": "code",
      "source": [
        "print('With interaction effects:')\n",
        "\n",
        "# Target encoding w/ interaction effects\n",
        "scores = cross_val_score(model_te, X_inter, y_inter, \n",
        "                         cv=5, scoring=mae_scorer)\n",
        "print('MAE w/ target encoding: %0.3f +/- %0.3f' \n",
        "      % (scores.mean(), scores.std()))\n",
        "\n",
        "# One-hot encoding w/ interaction effects\n",
        "scores = cross_val_score(model_oh, X_inter, y_inter, \n",
        "                         cv=5, scoring=mae_scorer)\n",
        "print('MAE w/ one-hot encoding: %0.3f +/- %0.3f' \n",
        "      % (scores.mean(), scores.std()))"
      ],
      "execution_count": 62,
      "outputs": [
        {
          "output_type": "stream",
          "text": [
            "With interaction effects:\n",
            "MAE w/ target encoding: 1.240 +/- 0.052\n",
            "MAE w/ one-hot encoding: 1.184 +/- 0.058\n"
          ],
          "name": "stdout"
        }
      ]
    },
    {
      "metadata": {
        "id": "GgfpH7-bYWFn",
        "colab_type": "text"
      },
      "cell_type": "markdown",
      "source": [
        "## Suggestions\n",
        "\n",
        "Target encoding categorical variables is a great way to represent categorical data in a numerical format that machine learning algorithms can handle, without jacking up the dimensionality of your training data.  However, make sure to use cross-fold or leave-one-out target encoding to prevent data leakage!  Also keep in mind the number of categories, what machine learning algorithm you're using, and whether you suspect there may be strong interaction effects in your data.  With only a few categories, or in the presence of interaction effects, you're probably better off just using one-hot encoding and a boosting algorithm like XGBoost/CatBoost/LightGBM.  On the other hand, if your data contains many columns with many categories, it might be best to use target encoding!"
      ]
    }
  ]
}